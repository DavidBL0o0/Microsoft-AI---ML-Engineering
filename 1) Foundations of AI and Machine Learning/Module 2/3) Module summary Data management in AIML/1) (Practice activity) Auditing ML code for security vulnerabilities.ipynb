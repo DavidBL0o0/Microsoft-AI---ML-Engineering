{
 "cells": [
  {
   "cell_type": "markdown",
   "id": "ef022384",
   "metadata": {},
   "source": [
    "security vulnerabilities\n",
    "\n",
    "Introduction\n",
    "\n",
    "In this activity, you will be tasked with reviewing a block of intentionally flawed ML code. Your objective is to audit the code for potential security vulnerabilities that could pose risks to data integrity, confidentiality, and the overall security of the ML system. This activity will take you approximately 60 minutes to complete.\n",
    "\n",
    "By the end of this activity, you will be able to: \n",
    "\n",
    "Identify and mitigate security risks in AI/ML development.\n",
    "\n",
    "Explain the implications of security vulnerabilities in ML code.\n",
    "\n",
    "Propose solutions to mitigate the identified risks."
   ]
  },
  {
   "cell_type": "markdown",
   "id": "2bab9d75",
   "metadata": {},
   "source": [
    "# Step 1: Review the provided ML code block\n",
    "\n",
    "You will be given a block of ML code that contains several intentional security flaws. Your first task is to carefully review the code and identify any potential vulnerabilities. These may include issues related to data handling, access controls, model deployment, and other security aspects."
   ]
  },
  {
   "cell_type": "markdown",
   "id": "b7d96e7b",
   "metadata": {},
   "source": [
    "Code block example (with intentional flaws)\n",
    "\n"
   ]
  },
  {
   "cell_type": "code",
   "execution_count": null,
   "id": "92305d1b",
   "metadata": {},
   "outputs": [],
   "source": [
    "import pandas as pd\n",
    "from sklearn.model_selection import train_test_split\n",
    "from sklearn.linear_model import LogisticRegression\n",
    "import pickle\n",
    "# Load dataset (Flaw: No data validation or sanitization)\n",
    "data = pd.read_csv('user_data.csv')\n",
    "# Split the dataset into features and target (Flaw: No input validation)\n",
    "X = data.iloc[:, :-1]\n",
    "y = data.iloc[:, -1]\n",
    "# Split the data into training and testing sets (Flaw: Fixed random state)\n",
    "X_train, X_test, y_train, y_test = train_test_split(X, y, test_size=0.2, random_state=42)\n",
    "# Train a simple logistic regression model (Flaw: No model security checks)\n",
    "model = LogisticRegression()\n",
    "model.fit(X_train, y_train)\n",
    "# Save the model to disk (Flaw: Unencrypted model saving)\n",
    "filename = 'finalized_model.sav'\n",
    "pickle.dump(model, open(filename, 'wb'))\n",
    "# Load the model from disk for later use (Flaw: No integrity checks on the loaded model)\n",
    "loaded_model = pickle.load(open(filename, 'rb'))\n",
    "result = loaded_model.score(X_test, y_test)\n",
    "print(f'Model Accuracy: {result:.2f}')"
   ]
  },
  {
   "cell_type": "markdown",
   "id": "168637b9",
   "metadata": {},
   "source": [
    "*Step 2: Identify security vulnerabilities*\n",
    "\n",
    "As you review the code, look for potential security vulnerabilities such as:\n",
    "\n",
    "- Data validation and sanitization: Is the input data validated or sanitized to prevent malicious input?\n",
    "\n",
    "- Input validation: Are there any checks on the input data to ensure it meets expected formats or values?\n",
    "\n",
    "- Random state and seed management: Is the random state used securely to prevent predictability in model training?\n",
    "\n",
    "- Model security: Are there security measures in place to protect the model from tampering or unauthorized access?\n",
    "\n",
    "- Encryption: Is sensitive data, such as the trained model, encrypted when stored or transmitted?\n",
    "\n",
    "- Integrity checks: Are there mechanisms to verify the integrity of the model when loading it from storage?\n",
    "\n",
    "*Step 3: Document your findings*\n",
    "For each vulnerability you identify, document the following:\n",
    "\n",
    "- Vulnerability description: Clearly describe the issue you’ve identified.\n",
    "\n",
    "- Potential impact: Explain the potential security risks if this vulnerability were exploited.\n",
    "\n",
    "- Mitigation strategy: Propose a solution or best practice to mitigate the identified vulnerability.\n",
    "\n",
    "Example documentation:\n",
    "\n",
    "- Vulnerability: Lack of data validation and sanitization when loading the dataset.\n",
    "\n",
    "    - Impact: Malicious users could inject harmful code or corrupted data, leading to data breaches or compromised model integrity.\n",
    "\n",
    "    - Mitigation: Implement input validation and sanitization routines before processing the data. For example, ensure that the CSV file only contains expected data types and values.\n",
    "\n",
    "*Step 4: Propose code improvements*\n",
    "\n",
    "Based on your findings, propose improvements to the provided code block to enhance its security. Rewrite sections of the code where necessary, incorporating best practices such as:\n",
    "\n",
    "- Adding data validation and sanitization.\n",
    "\n",
    "- Using secure random state management.\n",
    "\n",
    "- Encrypting models before saving them to disk.\n",
    "\n",
    "- Implementing integrity checks when loading models.\n",
    "\n",
    "Example code improvement"
   ]
  },
  {
   "cell_type": "code",
   "execution_count": null,
   "id": "782f092d",
   "metadata": {},
   "outputs": [],
   "source": [
    "import os\n",
    "import pandas as pd\n",
    "from sklearn.model_selection import train_test_split\n",
    "from sklearn.linear_model import LogisticRegression\n",
    "import pickle\n",
    "import hashlib"
   ]
  },
  {
   "cell_type": "code",
   "execution_count": null,
   "id": "f4b15d85",
   "metadata": {},
   "outputs": [],
   "source": [
    "# Validate and sanitize input data\n",
    "def validate_data(df):\n",
    "    # Example validation: Check for null values, correct data types, etc.\n",
    "    if df.isnull().values.any():\n",
    "        raise ValueError(\"Dataset contains null values. Please clean the data before processing.\")\n",
    "    # Additional validation checks can be added here\n",
    "    return df\n",
    "\n",
    "# Load and validate dataset\n",
    "data = validate_data(pd.read_csv('user_data.csv'))\n",
    "# Split the dataset into features and target\n",
    "X = data.iloc[:, :-1]\n",
    "y = data.iloc[:, -1]\n",
    "# Split the data into training and testing sets with a securely managed random state\n",
    "X_train, X_test, y_train, y_test = train_test_split(X, y, test_size=0.2, random_state=os.urandom(16))\n",
    "# Train a logistic regression model with added security considerations\n",
    "model = LogisticRegression()\n",
    "model.fit(X_train, y_train)\n",
    "# Save the model to disk with encryption\n",
    "filename = 'finalized_model.sav'\n",
    "with open(filename, 'wb') as model_file:\n",
    "    encrypted_model = pickle.dumps(model)\n",
    "    model_file.write(encrypted_model)\n",
    "# Load the model from disk and verify its integrity\n",
    "with open(filename, 'rb') as model_file:\n",
    "    loaded_model = pickle.loads(model_file.read())\n",
    "    if hashlib.sha256(pickle.dumps(loaded_model)).hexdigest() != hashlib.sha256(pickle.dumps(model)).hexdigest():\n",
    "        raise ValueError(\"Model integrity check failed. The model may have been tampered with.\")\n",
    "result = loaded_model.score(X_test, y_test)\n",
    "print(f'Model Accuracy: {result:.2f}')"
   ]
  },
  {
   "cell_type": "code",
   "execution_count": null,
   "id": "4432d60d",
   "metadata": {},
   "outputs": [],
   "source": []
  }
 ],
 "metadata": {
  "language_info": {
   "name": "python"
  }
 },
 "nbformat": 4,
 "nbformat_minor": 5
}
