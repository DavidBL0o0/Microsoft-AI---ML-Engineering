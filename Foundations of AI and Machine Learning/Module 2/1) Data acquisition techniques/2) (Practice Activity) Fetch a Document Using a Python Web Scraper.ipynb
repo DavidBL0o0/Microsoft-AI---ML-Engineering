{
 "cells": [
  {
   "cell_type": "code",
   "execution_count": 2,
   "id": "0fc15687",
   "metadata": {},
   "outputs": [],
   "source": [
    "import requests\n",
    "from bs4 import BeautifulSoup\n",
    "import os"
   ]
  },
  {
   "cell_type": "code",
   "execution_count": 10,
   "id": "a8a3aefd",
   "metadata": {},
   "outputs": [
    {
     "name": "stdout",
     "output_type": "stream",
     "text": [
      "Webpage retrieved successfully!\n"
     ]
    }
   ],
   "source": [
    "# Step 1: Send an HTTP request to the webpage\n",
    "url = 'https://libgen.li/ads.php?md5=abb70e4c4de57e5c548f923a6c4bdd1a'  # Replace with the actual URL\n",
    "response = requests.get(url)\n",
    "\n",
    "# Check if the request was successful\n",
    "if response.status_code == 200:\n",
    "    soup = BeautifulSoup(response.content, 'html.parser')\n",
    "    print('Webpage retrieved successfully!')\n",
    "else:\n",
    "    print('Failed to retrieve the webpage.')\n",
    "    exit()\n"
   ]
  },
  {
   "cell_type": "code",
   "execution_count": 16,
   "id": "9b6c7183",
   "metadata": {},
   "outputs": [
    {
     "name": "stdout",
     "output_type": "stream",
     "text": [
      "Document link found: get.php?md5=abb70e4c4de57e5c548f923a6c4bdd1a&key=VYSN00TSON2AW76X\n",
      "Full document link: https://libgen.li/get.php?md5=abb70e4c4de57e5c548f923a6c4bdd1a&key=VYSN00TSON2AW76X\n"
     ]
    }
   ],
   "source": [
    "# Step 2: Find the document link\n",
    "# Buscar el enlace que contiene el texto \"GET\" en un h2\n",
    "download_link_element = soup.find('a', string=lambda text: text and 'GET' in text)\n",
    "\n",
    "if not download_link_element:\n",
    "    # Alternativa: buscar por el h2 que contiene \"GET\" y luego obtener el enlace padre\n",
    "    h2_element = soup.find('h2', string='GET')\n",
    "    if h2_element:\n",
    "        download_link_element = h2_element.find_parent('a')\n",
    "\n",
    "if download_link_element:\n",
    "    document_link = download_link_element['href']\n",
    "    print('Document link found:', document_link)\n",
    "    \n",
    "    # Si el enlace es relativo, construir la URL completa\n",
    "    if document_link.startswith('g'):\n",
    "        base_url = 'https://libgen.li/'\n",
    "        full_document_link = base_url + document_link\n",
    "        print('Full document link:', full_document_link)\n",
    "    else:\n",
    "        full_document_link = document_link\n",
    "        print('Full document link:', full_document_link)\n",
    "else:\n",
    "    print('No download link found')"
   ]
  }
 ],
 "metadata": {
  "kernelspec": {
   "display_name": ".venv",
   "language": "python",
   "name": "python3"
  },
  "language_info": {
   "codemirror_mode": {
    "name": "ipython",
    "version": 3
   },
   "file_extension": ".py",
   "mimetype": "text/x-python",
   "name": "python",
   "nbconvert_exporter": "python",
   "pygments_lexer": "ipython3",
   "version": "3.13.2"
  }
 },
 "nbformat": 4,
 "nbformat_minor": 5
}
