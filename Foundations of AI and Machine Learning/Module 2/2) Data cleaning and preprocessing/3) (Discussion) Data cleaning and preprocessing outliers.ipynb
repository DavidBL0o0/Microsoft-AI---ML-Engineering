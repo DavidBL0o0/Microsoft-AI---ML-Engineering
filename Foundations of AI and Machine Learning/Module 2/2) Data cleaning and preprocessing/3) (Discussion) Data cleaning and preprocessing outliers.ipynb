{
 "cells": [
  {
   "cell_type": "code",
   "execution_count": 50,
   "id": "f8b81240",
   "metadata": {},
   "outputs": [],
   "source": [
    "import pandas as pd\n",
    "import numpy as np\n",
    "\n",
    "\n",
    "from sklearn.preprocessing import StandardScaler, MinMaxScaler\n",
    "\n",
    "# Identify outliers using Z-score\n",
    "from scipy import stats"
   ]
  },
  {
   "cell_type": "code",
   "execution_count": 14,
   "id": "4319dbac",
   "metadata": {},
   "outputs": [
    {
     "data": {
      "application/vnd.microsoft.datawrangler.viewer.v0+json": {
       "columns": [
        {
         "name": "index",
         "rawType": "int64",
         "type": "integer"
        },
        {
         "name": "Inicio",
         "rawType": "float64",
         "type": "float"
        },
        {
         "name": "Medio",
         "rawType": "float64",
         "type": "float"
        },
        {
         "name": "Final",
         "rawType": "float64",
         "type": "float"
        },
        {
         "name": "Diferencia",
         "rawType": "float64",
         "type": "float"
        }
       ],
       "ref": "d14e7c35-bceb-47f7-8f69-0754c4e0ef61",
       "rows": [
        [
         "19",
         "105097.0",
         "105359.0",
         "105621.0",
         "524.0"
        ],
        [
         "24",
         "106349.0",
         "106701.0",
         "107053.0",
         "704.0"
        ],
        [
         "28",
         "49154.0",
         "49388.0",
         "49622.0",
         "468.0"
        ],
        [
         "45",
         "98713.0",
         "98982.0",
         "99251.0",
         "538.0"
        ],
        [
         "48",
         "33849.0",
         "33956.0",
         "34063.0",
         "214.0"
        ],
        [
         "54",
         "42.0",
         "84.0",
         "127.0",
         "85.0"
        ],
        [
         "59",
         "62084.0",
         "62234.0",
         "62385.0",
         "301.0"
        ],
        [
         "75",
         "26592.0",
         "26869.0",
         "27146.0",
         "554.0"
        ],
        [
         "106",
         "64467.0",
         "64575.0",
         "64683.0",
         "216.0"
        ],
        [
         "108",
         "135623.0",
         "135783.0",
         "135944.0",
         "321.0"
        ],
        [
         "141",
         "43.0",
         "81.0",
         "120.0",
         "77.0"
        ],
        [
         "149",
         "142478.0",
         "142664.0",
         "142850.0",
         "372.0"
        ],
        [
         "168",
         "133922.0",
         "134110.0",
         "134299.0",
         "377.0"
        ],
        [
         "173",
         "37604.0",
         "38296.0",
         "38988.0",
         "1384.0"
        ],
        [
         "176",
         "23142.0",
         "23480.0",
         "23819.0",
         "677.0"
        ],
        [
         "219",
         "144239.0",
         "144473.0",
         "144707.0",
         "468.0"
        ],
        [
         "224",
         "143763.0",
         "143958.0",
         "144153.0",
         "390.0"
        ],
        [
         "237",
         "124714.0",
         "124865.0",
         "125017.0",
         "303.0"
        ],
        [
         "251",
         "67337.0",
         "67594.0",
         "67852.0",
         "515.0"
        ],
        [
         "254",
         "60154.0",
         "60282.0",
         "60410.0",
         "256.0"
        ],
        [
         "263",
         "38842.0",
         "39305.0",
         "39768.0",
         "926.0"
        ],
        [
         "267",
         "30855.0",
         "31417.0",
         "31980.0",
         "1125.0"
        ],
        [
         "274",
         "69935.0",
         "70216.0",
         "70498.0",
         "563.0"
        ],
        [
         "289",
         "102531.0",
         "102726.0",
         "102922.0",
         "391.0"
        ],
        [
         "294",
         "64309.0",
         "65080.0",
         "65852.0",
         "1543.0"
        ],
        [
         "312",
         "17053.0",
         "17324.0",
         "17596.0",
         "543.0"
        ],
        [
         "319",
         "61852.0",
         "62695.0",
         "63539.0",
         "1687.0"
        ],
        [
         "347",
         "29373.0",
         "29453.0",
         "29533.0",
         "160.0"
        ],
        [
         "351",
         "124410.0",
         "124564.0",
         "124719.0",
         "309.0"
        ],
        [
         "359",
         "101440.0",
         "101557.0",
         "101674.0",
         "234.0"
        ],
        [
         "365",
         "3864.0",
         "4115.0",
         "4367.0",
         "503.0"
        ],
        [
         "394",
         "26414.0",
         "26604.0",
         "26794.0",
         "380.0"
        ],
        [
         "397",
         "406.0",
         "617.0",
         "829.0",
         "423.0"
        ],
        [
         "403",
         "129060.0",
         "129425.0",
         "129790.0",
         "730.0"
        ],
        [
         "405",
         "122536.0",
         "122676.0",
         "122817.0",
         "281.0"
        ],
        [
         "434",
         "27037.0",
         "27385.0",
         "27734.0",
         "697.0"
        ],
        [
         "464",
         "76144.0",
         "76320.0",
         "76497.0",
         "353.0"
        ],
        [
         "487",
         "125962.0",
         "126157.0",
         "126352.0",
         "390.0"
        ],
        [
         "498",
         "132641.0",
         "132960.0",
         "133280.0",
         "639.0"
        ],
        [
         "502",
         "55374.0",
         "56085.0",
         "56796.0",
         "1422.0"
        ],
        [
         "527",
         "95229.0",
         "95422.0",
         "95615.0",
         "386.0"
        ],
        [
         "558",
         "91422.0",
         "91654.0",
         "91887.0",
         "465.0"
        ],
        [
         "569",
         "94466.0",
         "94697.0",
         "94928.0",
         "462.0"
        ],
        [
         "572",
         "46269.0",
         "46903.0",
         "47538.0",
         "1269.0"
        ],
        [
         "579",
         "16426.0",
         "16912.0",
         "17398.0",
         "972.0"
        ],
        [
         "580",
         "142603.0",
         "142691.0",
         "142780.0",
         "177.0"
        ],
        [
         "592",
         "66736.0",
         "67024.0",
         "67313.0",
         "577.0"
        ],
        [
         "598",
         "131697.0",
         "131915.0",
         "132133.0",
         "436.0"
        ],
        [
         "623",
         "54751.0",
         "54880.0",
         "55009.0",
         "258.0"
        ],
        [
         "643",
         "7242.0",
         "7549.0",
         "7857.0",
         "615.0"
        ]
       ],
       "shape": {
        "columns": 4,
        "rows": 20546
       }
      },
      "text/html": [
       "<div>\n",
       "<style scoped>\n",
       "    .dataframe tbody tr th:only-of-type {\n",
       "        vertical-align: middle;\n",
       "    }\n",
       "\n",
       "    .dataframe tbody tr th {\n",
       "        vertical-align: top;\n",
       "    }\n",
       "\n",
       "    .dataframe thead th {\n",
       "        text-align: right;\n",
       "    }\n",
       "</style>\n",
       "<table border=\"1\" class=\"dataframe\">\n",
       "  <thead>\n",
       "    <tr style=\"text-align: right;\">\n",
       "      <th></th>\n",
       "      <th>Inicio</th>\n",
       "      <th>Medio</th>\n",
       "      <th>Final</th>\n",
       "      <th>Diferencia</th>\n",
       "    </tr>\n",
       "  </thead>\n",
       "  <tbody>\n",
       "    <tr>\n",
       "      <th>19</th>\n",
       "      <td>105097.0</td>\n",
       "      <td>105359.0</td>\n",
       "      <td>105621.0</td>\n",
       "      <td>524.0</td>\n",
       "    </tr>\n",
       "    <tr>\n",
       "      <th>24</th>\n",
       "      <td>106349.0</td>\n",
       "      <td>106701.0</td>\n",
       "      <td>107053.0</td>\n",
       "      <td>704.0</td>\n",
       "    </tr>\n",
       "    <tr>\n",
       "      <th>28</th>\n",
       "      <td>49154.0</td>\n",
       "      <td>49388.0</td>\n",
       "      <td>49622.0</td>\n",
       "      <td>468.0</td>\n",
       "    </tr>\n",
       "    <tr>\n",
       "      <th>45</th>\n",
       "      <td>98713.0</td>\n",
       "      <td>98982.0</td>\n",
       "      <td>99251.0</td>\n",
       "      <td>538.0</td>\n",
       "    </tr>\n",
       "    <tr>\n",
       "      <th>48</th>\n",
       "      <td>33849.0</td>\n",
       "      <td>33956.0</td>\n",
       "      <td>34063.0</td>\n",
       "      <td>214.0</td>\n",
       "    </tr>\n",
       "    <tr>\n",
       "      <th>...</th>\n",
       "      <td>...</td>\n",
       "      <td>...</td>\n",
       "      <td>...</td>\n",
       "      <td>...</td>\n",
       "    </tr>\n",
       "    <tr>\n",
       "      <th>259970</th>\n",
       "      <td>105685.0</td>\n",
       "      <td>105876.0</td>\n",
       "      <td>106067.0</td>\n",
       "      <td>382.0</td>\n",
       "    </tr>\n",
       "    <tr>\n",
       "      <th>259982</th>\n",
       "      <td>143216.0</td>\n",
       "      <td>143329.0</td>\n",
       "      <td>143443.0</td>\n",
       "      <td>227.0</td>\n",
       "    </tr>\n",
       "    <tr>\n",
       "      <th>259985</th>\n",
       "      <td>85949.0</td>\n",
       "      <td>86019.0</td>\n",
       "      <td>86090.0</td>\n",
       "      <td>141.0</td>\n",
       "    </tr>\n",
       "    <tr>\n",
       "      <th>259989</th>\n",
       "      <td>84337.0</td>\n",
       "      <td>84605.0</td>\n",
       "      <td>84873.0</td>\n",
       "      <td>536.0</td>\n",
       "    </tr>\n",
       "    <tr>\n",
       "      <th>259995</th>\n",
       "      <td>11469.0</td>\n",
       "      <td>11626.0</td>\n",
       "      <td>11783.0</td>\n",
       "      <td>314.0</td>\n",
       "    </tr>\n",
       "  </tbody>\n",
       "</table>\n",
       "<p>20546 rows × 4 columns</p>\n",
       "</div>"
      ],
      "text/plain": [
       "          Inicio     Medio     Final  Diferencia\n",
       "19      105097.0  105359.0  105621.0       524.0\n",
       "24      106349.0  106701.0  107053.0       704.0\n",
       "28       49154.0   49388.0   49622.0       468.0\n",
       "45       98713.0   98982.0   99251.0       538.0\n",
       "48       33849.0   33956.0   34063.0       214.0\n",
       "...          ...       ...       ...         ...\n",
       "259970  105685.0  105876.0  106067.0       382.0\n",
       "259982  143216.0  143329.0  143443.0       227.0\n",
       "259985   85949.0   86019.0   86090.0       141.0\n",
       "259989   84337.0   84605.0   84873.0       536.0\n",
       "259995   11469.0   11626.0   11783.0       314.0\n",
       "\n",
       "[20546 rows x 4 columns]"
      ]
     },
     "execution_count": 14,
     "metadata": {},
     "output_type": "execute_result"
    }
   ],
   "source": [
    "# Load your dataset into a pandas DataFrame\n",
    "df = pd.read_csv('resultados_11700_108.csv')  # Replace 'your_dataset.csv' with your actual file path\n",
    "\n",
    "# Display the first few rows of the dataset\n",
    "#df = df.head(20000)\n",
    "\n",
    "df = df.drop(columns=['Archivo']) # \"Inicio\",\"Medio\",\"Final\", \"Diferencia\"\n",
    "df = df.dropna()\n",
    "df"
   ]
  },
  {
   "cell_type": "code",
   "execution_count": 54,
   "id": "1518a203",
   "metadata": {},
   "outputs": [],
   "source": [
    "def load_data(df):\n",
    "    return df\n",
    "\n",
    "def handle_missing_values(df):\n",
    "    df_copy = df.copy()\n",
    "    \n",
    "    # Handle missing values in numeric columns with mean\n",
    "    numeric_columns = df_copy.select_dtypes(include=[np.number]).columns\n",
    "    for col in numeric_columns:\n",
    "        df_copy[col] = df_copy[col].fillna(df_copy[col].mean())\n",
    "    \n",
    "    # Handle missing values in categorical columns with mode (most frequent value)\n",
    "    categorical_columns = df_copy.select_dtypes(include=['object']).columns\n",
    "    for col in categorical_columns:\n",
    "        df_copy[col] = df_copy[col].fillna(df_copy[col].mode()[0] if not df_copy[col].mode().empty else 'Unknown')\n",
    "    \n",
    "    return df_copy\n",
    "\n",
    "def remove_outliers(df):\n",
    "    z_scores = np.abs(stats.zscore(df.select_dtypes(include=[np.number])))\n",
    "    print(z_scores)\n",
    "    return df[(z_scores < 1.6).all(axis=1)]  # Remove rows with any outliers\n",
    "\n",
    "def scale_data(df):\n",
    "    scaler = StandardScaler()\n",
    "    df[df.select_dtypes(include=[np.number]).columns] = scaler.fit_transform(df.select_dtypes(include=[np.number]))\n",
    "    return df\n",
    "\n",
    "def encode_categorical(df, categorical_columns):\n",
    "    return pd.get_dummies(df, columns=categorical_columns) # One-hot encoding for categorical variables\n",
    "\n",
    "def save_data(df, output_filepath):\n",
    "    df.to_csv(output_filepath, index=False)"
   ]
  },
  {
   "cell_type": "code",
   "execution_count": 55,
   "id": "3aef0044",
   "metadata": {},
   "outputs": [
    {
     "name": "stdout",
     "output_type": "stream",
     "text": [
      "[[0.72926948 0.72938213 0.72947575 0.0758337 ]\n",
      " [0.75720681 0.75932199 0.76141703 0.69211105]\n",
      " [0.51905182 0.51932417 0.51960206 0.11589703]\n",
      " ...\n",
      " [0.30199786 0.29790905 0.29382978 1.23546754]\n",
      " [0.26602742 0.26636288 0.26668416 0.11691886]\n",
      " [1.35996111 1.36178986 1.36361454 0.64315653]]\n",
      "          Inicio     Medio     Final  Diferencia\n",
      "19      105097.0  105359.0  105621.0       524.0\n",
      "24      106349.0  106701.0  107053.0       704.0\n",
      "28       49154.0   49388.0   49622.0       468.0\n",
      "45       98713.0   98982.0   99251.0       538.0\n",
      "48       33849.0   33956.0   34063.0       214.0\n",
      "...          ...       ...       ...         ...\n",
      "259970  105685.0  105876.0  106067.0       382.0\n",
      "259982  143216.0  143329.0  143443.0       227.0\n",
      "259985   85949.0   86019.0   86090.0       141.0\n",
      "259989   84337.0   84605.0   84873.0       536.0\n",
      "259995   11469.0   11626.0   11783.0       314.0\n",
      "\n",
      "[17530 rows x 4 columns]\n"
     ]
    },
    {
     "name": "stderr",
     "output_type": "stream",
     "text": [
      "C:\\Users\\david\\AppData\\Local\\Temp\\ipykernel_25916\\3051499001.py:26: SettingWithCopyWarning: \n",
      "A value is trying to be set on a copy of a slice from a DataFrame.\n",
      "Try using .loc[row_indexer,col_indexer] = value instead\n",
      "\n",
      "See the caveats in the documentation: https://pandas.pydata.org/pandas-docs/stable/user_guide/indexing.html#returning-a-view-versus-a-copy\n",
      "  df[df.select_dtypes(include=[np.number]).columns] = scaler.fit_transform(df.select_dtypes(include=[np.number]))\n"
     ]
    },
    {
     "data": {
      "application/vnd.microsoft.datawrangler.viewer.v0+json": {
       "columns": [
        {
         "name": "index",
         "rawType": "int64",
         "type": "integer"
        },
        {
         "name": "Inicio",
         "rawType": "float64",
         "type": "float"
        },
        {
         "name": "Medio",
         "rawType": "float64",
         "type": "float"
        },
        {
         "name": "Final",
         "rawType": "float64",
         "type": "float"
        },
        {
         "name": "Diferencia",
         "rawType": "float64",
         "type": "float"
        }
       ],
       "ref": "d2ef53c3-2565-4dd5-9c27-d37f70b0ba37",
       "rows": [
        [
         "19",
         "0.8058757946287025",
         "0.806699216241053",
         "0.8075058387138869",
         "0.34228094491155214"
        ],
        [
         "24",
         "0.8361180333643908",
         "0.8391156386970745",
         "0.842096275332774",
         "1.2588426998134459"
        ],
        [
         "28",
         "-0.5454353568014982",
         "-0.5452974911255495",
         "-0.5451686446807089",
         "0.05712839894207408"
        ],
        [
         "45",
         "0.6516693632480043",
         "0.6526608213065901",
         "0.6536363685586417",
         "0.4135690814039217"
        ],
        [
         "48",
         "-0.9151298167453559",
         "-0.9180621940624527",
         "-0.9210014682514247",
         "-1.236242077419487"
        ],
        [
         "59",
         "-0.23310936091296",
         "-0.23499841298095006",
         "-0.2368741317150269",
         "-0.7932372292169052"
        ],
        [
         "75",
         "-1.0904236877556515",
         "-1.0892508572113533",
         "-1.0880839054670968",
         "0.4950412373952011"
        ],
        [
         "106",
         "-0.17554765571555964",
         "-0.17845083848799448",
         "-0.18136517686153342",
         "-1.2260580579205773"
        ],
        [
         "108",
         "1.5432356825245663",
         "1.541600286883377",
         "1.539967996251956",
         "-0.6913970342278059"
        ],
        [
         "149",
         "1.708819186145288",
         "1.7078129567193563",
         "1.7067847248064494",
         "-0.4317045370056026"
        ],
        [
         "168",
         "1.5021477846895777",
         "1.5011884576963994",
         "1.5002324737393375",
         "-0.40624448825832776"
        ],
        [
         "176",
         "-1.1737589302781153",
         "-1.1711131938011126",
         "-1.1684486978072068",
         "1.121358436578162"
        ],
        [
         "224",
         "1.7398585445920607",
         "1.7390699244228525",
         "1.7382591234896965",
         "-0.34004836151541323"
        ],
        [
         "237",
         "1.27972723015426",
         "1.2778726412985462",
         "1.276022674370266",
         "-0.7830532097179952"
        ],
        [
         "251",
         "-0.1062223959939738",
         "-0.1055259656156182",
         "-0.1048169271092615",
         "0.2964528571664575"
        ],
        [
         "254",
         "-0.2797287864400195",
         "-0.28214957291698134",
         "-0.28458091406300323",
         "-1.0223776679423786"
        ],
        [
         "263",
         "-0.7945231889440046",
         "-0.788855455077908",
         "-0.7831952944310677",
         "2.389268864192448"
        ],
        [
         "274",
         "-0.04346733510314454",
         "-0.04219074975892041",
         "-0.040901916429390436",
         "0.5408693251402958"
        ],
        [
         "289",
         "0.7438936983061976",
         "0.7430982920035681",
         "0.7423105953937916",
         "-0.3349563517659583"
        ],
        [
         "312",
         "-1.320839594544574",
         "-1.31981326581249",
         "-1.3187673340357924",
         "0.4390291301511965"
        ],
        [
         "347",
         "-1.0232482357397177",
         "-1.026833543033738",
         "-1.03042512599134",
         "-1.5112106038900552"
        ],
        [
         "351",
         "1.272384066755179",
         "1.2706018937879184",
         "1.2688243851856094",
         "-0.7525011512212654"
        ],
        [
         "359",
         "0.7175404375548909",
         "0.7148607377181068",
         "0.7121647400164375",
         "-1.1344018824303879"
        ],
        [
         "365",
         "-1.639421772407987",
         "-1.6388807205230624",
         "-1.6383182321023133",
         "0.23534874017299787"
        ],
        [
         "394",
         "-1.0947233031669554",
         "-1.0956520136575871",
         "-1.096586582624812",
         "-0.39096845900996285"
        ],
        [
         "403",
         "1.384705480589804",
         "1.3880208427884553",
         "1.391316077988945",
         "1.391234953299275"
        ],
        [
         "405",
         "1.2271173292226871",
         "1.2249966735219209",
         "1.2228809421345457",
         "-0.8950774242060044"
        ],
        [
         "434",
         "-1.0796746492273916",
         "-1.0767867186217057",
         "-1.0738805697604588",
         "1.2231986315672612"
        ],
        [
         "464",
         "0.10651194629453019",
         "0.10525324627055453",
         "0.10400592524428552",
         "-0.528452722245247"
        ],
        [
         "487",
         "1.3098728483189077",
         "1.3090812983873539",
         "1.3082700437042147",
         "-0.34004836151541323"
        ],
        [
         "498",
         "1.4712050468138456",
         "1.4734098542504792",
         "1.4756181895810654",
         "0.9278620660988732"
        ],
        [
         "527",
         "0.5675128458716959",
         "0.5666679271609593",
         "0.5658075783726965",
         "-0.3604164005132331"
        ],
        [
         "558",
         "0.4755542173838641",
         "0.4756507290877185",
         "0.47575649756598465",
         "0.04185236969370919"
        ],
        [
         "569",
         "0.5490824719457134",
         "0.5491553293363575",
         "0.5492128647154509",
         "0.026576340445344293"
        ],
        [
         "580",
         "1.7118385789903048",
         "1.7084651500176518",
         "1.70509385150804",
         "-1.424646438149321"
        ],
        [
         "592",
         "-0.1207396367928146",
         "-0.11929449080185685",
         "-0.11783665150701303",
         "0.6121574616326653"
        ],
        [
         "598",
         "1.4484025920482786",
         "1.4481675580757085",
         "1.4479120228199873",
         "-0.10581591304048481"
        ],
        [
         "623",
         "-0.4102390227730258",
         "-0.4126365431907729",
         "-0.41504386670169696",
         "-1.0121936484434686"
        ],
        [
         "643",
         "-1.5578257001642528",
         "-1.5559313951028106",
         "-1.5540161205101932",
         "0.805653832111954"
        ],
        [
         "655",
         "-1.0330793788430923",
         "-1.033597029090136",
         "-1.0340967365821716",
         "-0.2127481177790391"
        ],
        [
         "701",
         "-0.7444495780022459",
         "-0.7456174549316498",
         "-0.7467932078495992",
         "-0.4928086539990622"
        ],
        [
         "714",
         "1.0496736505067394",
         "1.0461749332522283",
         "1.0426821591897844",
         "-1.4755665356438705"
        ],
        [
         "715",
         "0.24303681317481002",
         "0.23965337633411918",
         "0.23628052784556067",
         "-1.424646438149321"
        ],
        [
         "718",
         "0.45528805260811134",
         "0.45538442622586894",
         "0.4554660179850732",
         "0.03676035994425422"
        ],
        [
         "723",
         "1.3598015284041054",
         "1.3585513678284358",
         "1.3572812140252495",
         "-0.5335447319947019"
        ],
        [
         "743",
         "-1.274848202729278",
         "-1.2730002801792786",
         "-1.2711571730191538",
         "0.7801937833646791"
        ],
        [
         "778",
         "-1.2489055794048936",
         "-1.2463569761785396",
         "-1.243813336250592",
         "1.0755303488330672"
        ],
        [
         "850",
         "-0.3885960148599454",
         "-0.38669374310301796",
         "-0.3847772346601707",
         "0.805653832111954"
        ],
        [
         "860",
         "-0.9201057761539435",
         "-0.9228449449166198",
         "-0.9255909814899642",
         "-1.1547699214282077"
        ],
        [
         "865",
         "-1.510409154926109",
         "-1.5104469513735346",
         "-1.5104882107425712",
         "-0.014159737550295431"
        ]
       ],
       "shape": {
        "columns": 4,
        "rows": 17530
       }
      },
      "text/html": [
       "<div>\n",
       "<style scoped>\n",
       "    .dataframe tbody tr th:only-of-type {\n",
       "        vertical-align: middle;\n",
       "    }\n",
       "\n",
       "    .dataframe tbody tr th {\n",
       "        vertical-align: top;\n",
       "    }\n",
       "\n",
       "    .dataframe thead th {\n",
       "        text-align: right;\n",
       "    }\n",
       "</style>\n",
       "<table border=\"1\" class=\"dataframe\">\n",
       "  <thead>\n",
       "    <tr style=\"text-align: right;\">\n",
       "      <th></th>\n",
       "      <th>Inicio</th>\n",
       "      <th>Medio</th>\n",
       "      <th>Final</th>\n",
       "      <th>Diferencia</th>\n",
       "    </tr>\n",
       "  </thead>\n",
       "  <tbody>\n",
       "    <tr>\n",
       "      <th>19</th>\n",
       "      <td>0.805876</td>\n",
       "      <td>0.806699</td>\n",
       "      <td>0.807506</td>\n",
       "      <td>0.342281</td>\n",
       "    </tr>\n",
       "    <tr>\n",
       "      <th>24</th>\n",
       "      <td>0.836118</td>\n",
       "      <td>0.839116</td>\n",
       "      <td>0.842096</td>\n",
       "      <td>1.258843</td>\n",
       "    </tr>\n",
       "    <tr>\n",
       "      <th>28</th>\n",
       "      <td>-0.545435</td>\n",
       "      <td>-0.545297</td>\n",
       "      <td>-0.545169</td>\n",
       "      <td>0.057128</td>\n",
       "    </tr>\n",
       "    <tr>\n",
       "      <th>45</th>\n",
       "      <td>0.651669</td>\n",
       "      <td>0.652661</td>\n",
       "      <td>0.653636</td>\n",
       "      <td>0.413569</td>\n",
       "    </tr>\n",
       "    <tr>\n",
       "      <th>48</th>\n",
       "      <td>-0.915130</td>\n",
       "      <td>-0.918062</td>\n",
       "      <td>-0.921001</td>\n",
       "      <td>-1.236242</td>\n",
       "    </tr>\n",
       "    <tr>\n",
       "      <th>...</th>\n",
       "      <td>...</td>\n",
       "      <td>...</td>\n",
       "      <td>...</td>\n",
       "      <td>...</td>\n",
       "    </tr>\n",
       "    <tr>\n",
       "      <th>259970</th>\n",
       "      <td>0.820079</td>\n",
       "      <td>0.819188</td>\n",
       "      <td>0.818279</td>\n",
       "      <td>-0.380784</td>\n",
       "    </tr>\n",
       "    <tr>\n",
       "      <th>259982</th>\n",
       "      <td>1.726646</td>\n",
       "      <td>1.723876</td>\n",
       "      <td>1.721109</td>\n",
       "      <td>-1.170046</td>\n",
       "    </tr>\n",
       "    <tr>\n",
       "      <th>259985</th>\n",
       "      <td>0.343353</td>\n",
       "      <td>0.339536</td>\n",
       "      <td>0.335728</td>\n",
       "      <td>-1.607959</td>\n",
       "    </tr>\n",
       "    <tr>\n",
       "      <th>259989</th>\n",
       "      <td>0.304415</td>\n",
       "      <td>0.305380</td>\n",
       "      <td>0.306331</td>\n",
       "      <td>0.403385</td>\n",
       "    </tr>\n",
       "    <tr>\n",
       "      <th>259995</th>\n",
       "      <td>-1.455722</td>\n",
       "      <td>-1.457450</td>\n",
       "      <td>-1.459182</td>\n",
       "      <td>-0.727041</td>\n",
       "    </tr>\n",
       "  </tbody>\n",
       "</table>\n",
       "<p>17530 rows × 4 columns</p>\n",
       "</div>"
      ],
      "text/plain": [
       "          Inicio     Medio     Final  Diferencia\n",
       "19      0.805876  0.806699  0.807506    0.342281\n",
       "24      0.836118  0.839116  0.842096    1.258843\n",
       "28     -0.545435 -0.545297 -0.545169    0.057128\n",
       "45      0.651669  0.652661  0.653636    0.413569\n",
       "48     -0.915130 -0.918062 -0.921001   -1.236242\n",
       "...          ...       ...       ...         ...\n",
       "259970  0.820079  0.819188  0.818279   -0.380784\n",
       "259982  1.726646  1.723876  1.721109   -1.170046\n",
       "259985  0.343353  0.339536  0.335728   -1.607959\n",
       "259989  0.304415  0.305380  0.306331    0.403385\n",
       "259995 -1.455722 -1.457450 -1.459182   -0.727041\n",
       "\n",
       "[17530 rows x 4 columns]"
      ]
     },
     "execution_count": 55,
     "metadata": {},
     "output_type": "execute_result"
    }
   ],
   "source": [
    "# Load the data\n",
    "df_preprocessed = load_data(df)\n",
    "\n",
    "# Handle missing values\n",
    "#df_preprocessed = handle_missing_values(df_preprocessed)\n",
    "\n",
    "# Remove outliers\n",
    "df_preprocessed = remove_outliers(df_preprocessed)\n",
    "print(df_preprocessed)\n",
    "# Scale the data\n",
    "df_preprocessed = scale_data(df_preprocessed)\n",
    "\n",
    "# Encode categorical variables\n",
    "#df_preprocessed = encode_categorical(df_preprocessed, ['Diferencia'])\n",
    "\n",
    "# Display the preprocessed data\n",
    "df_preprocessed"
   ]
  },
  {
   "cell_type": "code",
   "execution_count": 62,
   "id": "862933b9",
   "metadata": {},
   "outputs": [
    {
     "data": {
      "image/png": "[encoded data removed]",
      "text/plain": [
       "<Figure size 1000x500 with 1 Axes>"
      ]
     },
     "metadata": {},
     "output_type": "display_data"
    }
   ],
   "source": [
    "\n",
    "import matplotlib.pyplot as plt\n",
    "\n",
    "plt.figure(figsize=(10, 5))\n",
    "plt.hist(df_preprocessed['Diferencia'], bins=80, color='blue', alpha=0.7)\n",
    "plt.title('Distribución de \"Diferencia\" en df_preprocessed')\n",
    "plt.xlabel('Índice')\n",
    "plt.ylabel('Diferencia (escalada)')\n",
    "plt.show()\n"
   ]
  },
  {
   "cell_type": "code",
   "execution_count": 45,
   "id": "8e889ff9",
   "metadata": {},
   "outputs": [
    {
     "data": {
      "image/png": "[encoded data removed]",
      "text/plain": [
       "<Figure size 1000x500 with 1 Axes>"
      ]
     },
     "metadata": {},
     "output_type": "display_data"
    }
   ],
   "source": [
    "\n",
    "import matplotlib.pyplot as plt\n",
    "\n",
    "plt.figure(figsize=(10, 5))\n",
    "plt.hist(df_preprocessed['Diferencia'], bins=300, color='blue', alpha=0.7)\n",
    "plt.title('Distribución de \"Diferencia\" en df_preprocessed')\n",
    "plt.xlabel('Índice')\n",
    "plt.ylabel('Diferencia (escalada)')\n",
    "plt.show()\n"
   ]
  }
 ],
 "metadata": {
  "kernelspec": {
   "display_name": ".venv",
   "language": "python",
   "name": "python3"
  },
  "language_info": {
   "codemirror_mode": {
    "name": "ipython",
    "version": 3
   },
   "file_extension": ".py",
   "mimetype": "text/x-python",
   "name": "python",
   "nbconvert_exporter": "python",
   "pygments_lexer": "ipython3",
   "version": "3.13.2"
  }
 },
 "nbformat": 4,
 "nbformat_minor": 5
}
