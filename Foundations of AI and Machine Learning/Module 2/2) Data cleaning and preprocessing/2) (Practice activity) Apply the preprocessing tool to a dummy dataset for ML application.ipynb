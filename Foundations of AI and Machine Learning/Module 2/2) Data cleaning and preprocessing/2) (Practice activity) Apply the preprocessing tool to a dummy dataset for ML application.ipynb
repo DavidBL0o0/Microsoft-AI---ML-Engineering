{
 "cells": [
  {
   "cell_type": "code",
   "execution_count": 10,
   "id": "e1003ca4",
   "metadata": {},
   "outputs": [],
   "source": [
    "import pandas as pd\n",
    "import numpy as np\n",
    "\n",
    "\n",
    "from sklearn.preprocessing import StandardScaler, MinMaxScaler\n",
    "\n",
    "# Identify outliers using Z-score\n",
    "from scipy import stats"
   ]
  },
  {
   "cell_type": "markdown",
   "id": "b92ae45b",
   "metadata": {},
   "source": [
    "# 1. Loading the dummy data"
   ]
  },
  {
   "cell_type": "markdown",
   "id": "f76d32e6",
   "metadata": {},
   "source": [
    "## Step 1: Generate and load the dummy data \n"
   ]
  },
  {
   "cell_type": "code",
   "execution_count": 31,
   "id": "85b549ba",
   "metadata": {},
   "outputs": [
    {
     "data": {
      "application/vnd.microsoft.datawrangler.viewer.v0+json": {
       "columns": [
        {
         "name": "index",
         "rawType": "int64",
         "type": "integer"
        },
        {
         "name": "Feature1",
         "rawType": "float64",
         "type": "float"
        },
        {
         "name": "Feature2",
         "rawType": "int64",
         "type": "integer"
        },
        {
         "name": "Category",
         "rawType": "object",
         "type": "unknown"
        },
        {
         "name": "Target",
         "rawType": "int64",
         "type": "integer"
        }
       ],
       "ref": "82f8e8a0-eab7-472a-b4b2-664ad9170862",
       "rows": [
        [
         "0",
         "117.64052345967664",
         "32",
         "A",
         "1"
        ],
        [
         "1",
         "104.00157208367223",
         "70",
         "B",
         "1"
        ],
        [
         "2",
         "109.78737984105739",
         "85",
         "C",
         "0"
        ],
        [
         "3",
         "122.40893199201457",
         "31",
         "D",
         "1"
        ],
        [
         "4",
         "118.67557990149967",
         "13",
         "A",
         "0"
        ],
        [
         "5",
         "90.22722120123589",
         "71",
         "B",
         "1"
        ],
        [
         "6",
         "109.50088417525589",
         "56",
         "C",
         "1"
        ],
        [
         "7",
         "98.48642791702302",
         "24",
         "D",
         "0"
        ],
        [
         "8",
         "98.96781148206442",
         "79",
         "A",
         "0"
        ],
        [
         "9",
         "104.10598501938372",
         "41",
         "B",
         "1"
        ],
        [
         "10",
         "101.44043571160879",
         "18",
         "C",
         "1"
        ],
        [
         "11",
         "114.54273506962976",
         "40",
         "D",
         "0"
        ],
        [
         "12",
         "107.61037725146994",
         "54",
         "A",
         "1"
        ],
        [
         "13",
         "101.21675016492829",
         "79",
         "B",
         "1"
        ],
        [
         "14",
         "104.43863232745426",
         "11",
         "C",
         "1"
        ],
        [
         "15",
         "103.33674327374267",
         "38",
         "D",
         "1"
        ],
        [
         "16",
         "114.94079073157606",
         "93",
         "A",
         "1"
        ],
        [
         "17",
         "97.94841736234198",
         "1",
         "B",
         "1"
        ],
        [
         "18",
         "103.13067701650901",
         "95",
         "C",
         "0"
        ],
        [
         "19",
         "91.45904260698275",
         "44",
         "D",
         "0"
        ],
        [
         "20",
         "74.47010184165921",
         "88",
         "A",
         "1"
        ],
        [
         "21",
         "106.5361859544036",
         "24",
         "B",
         "0"
        ],
        [
         "22",
         "108.64436198859505",
         "67",
         "C",
         "1"
        ],
        [
         "23",
         "92.57834979593558",
         "82",
         "D",
         "0"
        ],
        [
         "24",
         "122.69754623987608",
         "3",
         "A",
         "0"
        ],
        [
         "25",
         "85.45634325401235",
         "76",
         "B",
         "1"
        ],
        [
         "26",
         "100.45758517301446",
         "35",
         "C",
         "1"
        ],
        [
         "27",
         "98.12816149974167",
         "86",
         "D",
         "1"
        ],
        [
         "28",
         "115.32779214358457",
         "61",
         "A",
         "1"
        ],
        [
         "29",
         "114.69358769900285",
         "69",
         "B",
         "1"
        ],
        [
         "30",
         "101.54947425696916",
         "87",
         "C",
         "0"
        ],
        [
         "31",
         "103.78162519602174",
         "43",
         "D",
         "1"
        ],
        [
         "32",
         "91.12214252369887",
         "32",
         "A",
         "1"
        ],
        [
         "33",
         "80.19203531776073",
         "11",
         "B",
         "1"
        ],
        [
         "34",
         "96.52087850673847",
         "84",
         "C",
         "0"
        ],
        [
         "35",
         "101.5634896910398",
         "10",
         "D",
         "0"
        ],
        [
         "36",
         "112.30290680727721",
         "54",
         "A",
         "1"
        ],
        [
         "37",
         "112.02379848784412",
         "37",
         "B",
         "1"
        ],
        [
         "38",
         "96.12673182592047",
         "28",
         "C",
         "0"
        ],
        [
         "39",
         "96.97697249424664",
         "2",
         "D",
         "1"
        ],
        [
         "40",
         "89.51447034932907",
         "27",
         "A",
         "1"
        ],
        [
         "41",
         "85.79982062821026",
         "83",
         "B",
         "1"
        ],
        [
         "42",
         "82.93729809374987",
         "89",
         "C",
         "0"
        ],
        [
         "43",
         "119.5077539523179",
         "23",
         "D",
         "0"
        ],
        [
         "44",
         "94.90347818248347",
         "53",
         "A",
         "0"
        ],
        [
         "45",
         "95.61925698388814",
         "51",
         "B",
         "1"
        ],
        [
         "46",
         "87.47204639950074",
         "46",
         "C",
         "0"
        ],
        [
         "47",
         "107.7749035583191",
         "20",
         "D",
         "0"
        ],
        [
         "48",
         "83.8610215244205",
         "53",
         "A",
         "0"
        ],
        [
         "49",
         "97.87259719786032",
         "29",
         "B",
         "0"
        ]
       ],
       "shape": {
        "columns": 4,
        "rows": 102
       }
      },
      "text/html": [
       "<div>\n",
       "<style scoped>\n",
       "    .dataframe tbody tr th:only-of-type {\n",
       "        vertical-align: middle;\n",
       "    }\n",
       "\n",
       "    .dataframe tbody tr th {\n",
       "        vertical-align: top;\n",
       "    }\n",
       "\n",
       "    .dataframe thead th {\n",
       "        text-align: right;\n",
       "    }\n",
       "</style>\n",
       "<table border=\"1\" class=\"dataframe\">\n",
       "  <thead>\n",
       "    <tr style=\"text-align: right;\">\n",
       "      <th></th>\n",
       "      <th>Feature1</th>\n",
       "      <th>Feature2</th>\n",
       "      <th>Category</th>\n",
       "      <th>Target</th>\n",
       "    </tr>\n",
       "  </thead>\n",
       "  <tbody>\n",
       "    <tr>\n",
       "      <th>0</th>\n",
       "      <td>117.640523</td>\n",
       "      <td>32</td>\n",
       "      <td>A</td>\n",
       "      <td>1</td>\n",
       "    </tr>\n",
       "    <tr>\n",
       "      <th>1</th>\n",
       "      <td>104.001572</td>\n",
       "      <td>70</td>\n",
       "      <td>B</td>\n",
       "      <td>1</td>\n",
       "    </tr>\n",
       "    <tr>\n",
       "      <th>2</th>\n",
       "      <td>109.787380</td>\n",
       "      <td>85</td>\n",
       "      <td>C</td>\n",
       "      <td>0</td>\n",
       "    </tr>\n",
       "    <tr>\n",
       "      <th>3</th>\n",
       "      <td>122.408932</td>\n",
       "      <td>31</td>\n",
       "      <td>D</td>\n",
       "      <td>1</td>\n",
       "    </tr>\n",
       "    <tr>\n",
       "      <th>4</th>\n",
       "      <td>118.675580</td>\n",
       "      <td>13</td>\n",
       "      <td>A</td>\n",
       "      <td>0</td>\n",
       "    </tr>\n",
       "    <tr>\n",
       "      <th>...</th>\n",
       "      <td>...</td>\n",
       "      <td>...</td>\n",
       "      <td>...</td>\n",
       "      <td>...</td>\n",
       "    </tr>\n",
       "    <tr>\n",
       "      <th>97</th>\n",
       "      <td>117.858705</td>\n",
       "      <td>35</td>\n",
       "      <td>B</td>\n",
       "      <td>1</td>\n",
       "    </tr>\n",
       "    <tr>\n",
       "      <th>98</th>\n",
       "      <td>101.269121</td>\n",
       "      <td>30</td>\n",
       "      <td>C</td>\n",
       "      <td>1</td>\n",
       "    </tr>\n",
       "    <tr>\n",
       "      <th>99</th>\n",
       "      <td>104.019894</td>\n",
       "      <td>29</td>\n",
       "      <td>D</td>\n",
       "      <td>1</td>\n",
       "    </tr>\n",
       "    <tr>\n",
       "      <th>100</th>\n",
       "      <td>NaN</td>\n",
       "      <td>33</td>\n",
       "      <td>NaN</td>\n",
       "      <td>1</td>\n",
       "    </tr>\n",
       "    <tr>\n",
       "      <th>101</th>\n",
       "      <td>200.000000</td>\n",
       "      <td>18</td>\n",
       "      <td>A</td>\n",
       "      <td>0</td>\n",
       "    </tr>\n",
       "  </tbody>\n",
       "</table>\n",
       "<p>102 rows × 4 columns</p>\n",
       "</div>"
      ],
      "text/plain": [
       "       Feature1  Feature2 Category  Target\n",
       "0    117.640523        32        A       1\n",
       "1    104.001572        70        B       1\n",
       "2    109.787380        85        C       0\n",
       "3    122.408932        31        D       1\n",
       "4    118.675580        13        A       0\n",
       "..          ...       ...      ...     ...\n",
       "97   117.858705        35        B       1\n",
       "98   101.269121        30        C       1\n",
       "99   104.019894        29        D       1\n",
       "100         NaN        33      NaN       1\n",
       "101  200.000000        18        A       0\n",
       "\n",
       "[102 rows x 4 columns]"
      ]
     },
     "execution_count": 31,
     "metadata": {},
     "output_type": "execute_result"
    }
   ],
   "source": [
    "# Create a dummy dataset\n",
    "np.random.seed(0)\n",
    "dummy_data = {\n",
    "    'Feature1': np.random.normal(100, 10, 100).tolist() + [np.nan, 200],  # Normally distributed with an outlier\n",
    "    'Feature2': np.random.randint(0, 100, 102).tolist(),  # Random integers\n",
    "    'Category': ['A', 'B', 'C', 'D'] * 25 + [np.nan, 'A'],  # Categorical with some missing values\n",
    "    'Target': np.random.choice([0, 1], 102).tolist()  # Binary target variable\n",
    "}\n",
    "\n",
    "# Convert the dictionary to a pandas DataFrame\n",
    "df_dummy = pd.DataFrame(dummy_data)\n",
    "\n",
    "# Display the first few rows of the dummy dataset\n",
    "df_dummy"
   ]
  },
  {
   "cell_type": "markdown",
   "id": "69e10bf1",
   "metadata": {},
   "source": [
    "# 2. Applying the preprocessing tool \n",
    "\n",
    "Next, use the preprocessing tool you set up in the previous lesson to clean and preprocess this dummy data, making it ready for ML."
   ]
  },
  {
   "cell_type": "markdown",
   "id": "64b32b0a",
   "metadata": {},
   "source": [
    "## Step 2: Load the preprocessing tool \n",
    "\n",
    "Ensure your preprocessing functions are loaded into your environment. These functions include handling missing values, removing outliers, scaling data, and encoding categorical variables."
   ]
  },
  {
   "cell_type": "code",
   "execution_count": 20,
   "id": "ecddecad",
   "metadata": {},
   "outputs": [],
   "source": [
    "def load_data(df):\n",
    "    return df\n",
    "\n",
    "def handle_missing_values(df):\n",
    "    df_copy = df.copy()\n",
    "    \n",
    "    # Handle missing values in numeric columns with mean\n",
    "    numeric_columns = df_copy.select_dtypes(include=[np.number]).columns\n",
    "    for col in numeric_columns:\n",
    "        df_copy[col] = df_copy[col].fillna(df_copy[col].mean())\n",
    "    \n",
    "    # Handle missing values in categorical columns with mode (most frequent value)\n",
    "    categorical_columns = df_copy.select_dtypes(include=['object']).columns\n",
    "    for col in categorical_columns:\n",
    "        df_copy[col] = df_copy[col].fillna(df_copy[col].mode()[0] if not df_copy[col].mode().empty else 'Unknown')\n",
    "    \n",
    "    return df_copy\n",
    "\n",
    "def remove_outliers(df):\n",
    "    z_scores = np.abs(stats.zscore(df.select_dtypes(include=[np.number])))\n",
    "    return df[(z_scores < 3).all(axis=1)]  # Remove rows with any outliers\n",
    "\n",
    "def scale_data(df):\n",
    "    scaler = StandardScaler()\n",
    "    df[df.select_dtypes(include=[np.number]).columns] = scaler.fit_transform(df.select_dtypes(include=[np.number]))\n",
    "    return df\n",
    "\n",
    "def encode_categorical(df, categorical_columns):\n",
    "    return pd.get_dummies(df, columns=categorical_columns)\n",
    "\n",
    "def save_data(df, output_filepath):\n",
    "    df.to_csv(output_filepath, index=False)"
   ]
  },
  {
   "cell_type": "markdown",
   "id": "b04053cf",
   "metadata": {},
   "source": [
    "Explanation: These functions encapsulate the core preprocessing tasks, making them reusable across different datasets. They will be applied to our dummy data."
   ]
  },
  {
   "cell_type": "markdown",
   "id": "ca4eb966",
   "metadata": {},
   "source": [
    "## Step 3: Preprocess the dummy data\n",
    "\n",
    "Apply the preprocessing tool to the dummy data:\n",
    "\n"
   ]
  },
  {
   "cell_type": "code",
   "execution_count": 24,
   "id": "07e0f94a",
   "metadata": {},
   "outputs": [
    {
     "data": {
      "application/vnd.microsoft.datawrangler.viewer.v0+json": {
       "columns": [
        {
         "name": "index",
         "rawType": "int64",
         "type": "integer"
        },
        {
         "name": "Feature1",
         "rawType": "float64",
         "type": "float"
        },
        {
         "name": "Feature2",
         "rawType": "float64",
         "type": "float"
        },
        {
         "name": "Target",
         "rawType": "float64",
         "type": "float"
        },
        {
         "name": "Category_A",
         "rawType": "bool",
         "type": "boolean"
        },
        {
         "name": "Category_B",
         "rawType": "bool",
         "type": "boolean"
        },
        {
         "name": "Category_C",
         "rawType": "bool",
         "type": "boolean"
        },
        {
         "name": "Category_D",
         "rawType": "bool",
         "type": "boolean"
        }
       ],
       "ref": "dc4014a7-3347-4f3b-b01b-ac62bbfdaae7",
       "rows": [
        [
         "0",
         "1.6982978664753785",
         "-0.5193791619309046",
         "0.9329364235414814",
         "True",
         "False",
         "False",
         "False"
        ],
        [
         "1",
         "0.3383840877486645",
         "0.8873796408149046",
         "0.9329364235414814",
         "False",
         "True",
         "False",
         "False"
        ],
        [
         "2",
         "0.91527592300917",
         "1.442679168214566",
         "-1.0718844015157447",
         "False",
         "False",
         "True",
         "False"
        ],
        [
         "3",
         "2.173746769177169",
         "-0.5563991304242153",
         "0.9329364235414814",
         "False",
         "False",
         "False",
         "True"
        ],
        [
         "4",
         "1.8015013663772412",
         "-1.2227585633038092",
         "-1.0718844015157447",
         "True",
         "False",
         "False",
         "False"
        ],
        [
         "5",
         "-1.0350301170264566",
         "0.9243996093082153",
         "0.9329364235414814",
         "False",
         "True",
         "False",
         "False"
        ],
        [
         "6",
         "0.8867099876430249",
         "0.36910008190855387",
         "0.9329364235414814",
         "False",
         "False",
         "True",
         "False"
        ],
        [
         "7",
         "-0.21152039809661813",
         "-0.8155389098773906",
         "-1.0718844015157447",
         "False",
         "False",
         "False",
         "True"
        ],
        [
         "8",
         "-0.16352256271287152",
         "1.2205593572547015",
         "-1.0718844015157447",
         "True",
         "False",
         "False",
         "False"
        ],
        [
         "9",
         "0.3487949020434629",
         "-0.18619944549110765",
         "0.9329364235414814",
         "False",
         "True",
         "False",
         "False"
        ],
        [
         "10",
         "0.08301807422251596",
         "-1.0376587208372552",
         "0.9329364235414814",
         "False",
         "False",
         "True",
         "False"
        ],
        [
         "11",
         "1.3894233057363445",
         "-0.2232194139844184",
         "-1.0718844015157447",
         "False",
         "False",
         "False",
         "True"
        ],
        [
         "12",
         "0.6982111548839386",
         "0.29506014492193233",
         "0.9329364235414814",
         "True",
         "False",
         "False",
         "False"
        ],
        [
         "13",
         "0.06071481580867567",
         "1.2205593572547015",
         "0.9329364235414814",
         "False",
         "True",
         "False",
         "False"
        ],
        [
         "14",
         "0.38196252946805703",
         "-1.2967985002904308",
         "0.9329364235414814",
         "False",
         "False",
         "True",
         "False"
        ],
        [
         "15",
         "0.2720952775467064",
         "-0.29725935097103995",
         "0.9329364235414814",
         "False",
         "False",
         "False",
         "True"
        ],
        [
         "16",
         "1.4291126751356173",
         "1.7388389161610522",
         "0.9329364235414814",
         "True",
         "False",
         "False",
         "False"
        ],
        [
         "17",
         "-0.2651644024075627",
         "-1.6669981852235383",
         "0.9329364235414814",
         "False",
         "True",
         "False",
         "False"
        ],
        [
         "18",
         "0.2515488048145197",
         "1.8128788531476738",
         "-1.0718844015157447",
         "False",
         "False",
         "True",
         "False"
        ],
        [
         "19",
         "-0.9122075585742826",
         "-0.07513954001117536",
         "-1.0718844015157447",
         "False",
         "False",
         "False",
         "True"
        ],
        [
         "20",
         "-2.606142377740982",
         "1.5537390736944985",
         "0.9329364235414814",
         "True",
         "False",
         "False",
         "False"
        ],
        [
         "21",
         "0.5911055933494287",
         "-0.8155389098773906",
         "-1.0718844015157447",
         "False",
         "True",
         "False",
         "False"
        ],
        [
         "22",
         "0.8013077971583161",
         "0.7763197353349723",
         "0.9329364235414814",
         "False",
         "False",
         "True",
         "False"
        ],
        [
         "23",
         "-0.8006035776727286",
         "1.3316192627346337",
         "-1.0718844015157447",
         "False",
         "False",
         "False",
         "True"
        ],
        [
         "24",
         "2.202523944312072",
         "-1.592958248236917",
         "-1.0718844015157447",
         "True",
         "False",
         "False",
         "False"
        ],
        [
         "25",
         "-1.5107252403676317",
         "1.1094994517747692",
         "0.9329364235414814",
         "False",
         "True",
         "False",
         "False"
        ],
        [
         "26",
         "-0.014980074829830615",
         "-0.4083192564509723",
         "0.9329364235414814",
         "False",
         "False",
         "True",
         "False"
        ],
        [
         "27",
         "-0.2472424579444993",
         "1.479699136707877",
         "0.9329364235414814",
         "False",
         "False",
         "False",
         "True"
        ],
        [
         "28",
         "1.4676998463974047",
         "0.5541999243751077",
         "0.9329364235414814",
         "True",
         "False",
         "False",
         "False"
        ],
        [
         "29",
         "1.4044645331435002",
         "0.8503596723215938",
         "0.9329364235414814",
         "False",
         "True",
         "False",
         "False"
        ],
        [
         "30",
         "0.09389009921622446",
         "1.5167191052011877",
         "-1.0718844015157447",
         "False",
         "False",
         "True",
         "False"
        ],
        [
         "31",
         "0.31645360388241967",
         "-0.11215950850448612",
         "0.9329364235414814",
         "False",
         "False",
         "False",
         "True"
        ],
        [
         "32",
         "-0.9457992220886768",
         "-0.5193791619309046",
         "0.9329364235414814",
         "True",
         "False",
         "False",
         "False"
        ],
        [
         "33",
         "-2.0356193250084877",
         "-1.2967985002904308",
         "0.9329364235414814",
         "False",
         "True",
         "False",
         "False"
        ],
        [
         "34",
         "-0.40750157378412827",
         "1.4056591997212553",
         "-1.0718844015157447",
         "False",
         "False",
         "True",
         "False"
        ],
        [
         "35",
         "0.09528755136500447",
         "-1.3338184687837413",
         "-1.0718844015157447",
         "False",
         "False",
         "False",
         "True"
        ],
        [
         "36",
         "1.1660943098346763",
         "0.29506014492193233",
         "0.9329364235414814",
         "True",
         "False",
         "False",
         "False"
        ],
        [
         "37",
         "1.1382649526582809",
         "-0.33427931946435074",
         "0.9329364235414814",
         "False",
         "True",
         "False",
         "False"
        ],
        [
         "38",
         "-0.4468011861448565",
         "-0.6674590359041476",
         "-1.0718844015157447",
         "False",
         "False",
         "True",
         "False"
        ],
        [
         "39",
         "-0.36202531384980535",
         "-1.6299782167302275",
         "0.9329364235414814",
         "False",
         "False",
         "False",
         "True"
        ],
        [
         "40",
         "-1.1060971424586743",
         "-0.7044790043974584",
         "0.9329364235414814",
         "True",
         "False",
         "False",
         "False"
        ],
        [
         "41",
         "-1.4764777677448913",
         "1.3686392312279445",
         "0.9329364235414814",
         "False",
         "True",
         "False",
         "False"
        ],
        [
         "42",
         "-1.7618944195981363",
         "1.590759042187809",
         "-1.0718844015157447",
         "False",
         "False",
         "True",
         "False"
        ],
        [
         "43",
         "1.8844758507644759",
         "-0.8525588783707014",
         "-1.0718844015157447",
         "False",
         "False",
         "False",
         "True"
        ],
        [
         "44",
         "-0.5687694693894422",
         "0.25804017642862154",
         "-1.0718844015157447",
         "True",
         "False",
         "False",
         "False"
        ],
        [
         "45",
         "-0.4974005328989698",
         "0.184000239442",
         "0.9329364235414814",
         "False",
         "True",
         "False",
         "False"
        ],
        [
         "46",
         "-1.3097433315828322",
         "-0.001099603024553819",
         "-1.0718844015157447",
         "False",
         "False",
         "True",
         "False"
        ],
        [
         "47",
         "0.7146157585428989",
         "-0.9636187838506337",
         "-1.0718844015157447",
         "False",
         "False",
         "False",
         "True"
        ],
        [
         "48",
         "-1.66979172148956",
         "0.25804017642862154",
         "-1.0718844015157447",
         "True",
         "False",
         "False",
         "False"
        ],
        [
         "49",
         "-0.272724286121596",
         "-0.6304390674108369",
         "-1.0718844015157447",
         "False",
         "True",
         "False",
         "False"
        ]
       ],
       "shape": {
        "columns": 7,
        "rows": 101
       }
      },
      "text/html": [
       "<div>\n",
       "<style scoped>\n",
       "    .dataframe tbody tr th:only-of-type {\n",
       "        vertical-align: middle;\n",
       "    }\n",
       "\n",
       "    .dataframe tbody tr th {\n",
       "        vertical-align: top;\n",
       "    }\n",
       "\n",
       "    .dataframe thead th {\n",
       "        text-align: right;\n",
       "    }\n",
       "</style>\n",
       "<table border=\"1\" class=\"dataframe\">\n",
       "  <thead>\n",
       "    <tr style=\"text-align: right;\">\n",
       "      <th></th>\n",
       "      <th>Feature1</th>\n",
       "      <th>Feature2</th>\n",
       "      <th>Target</th>\n",
       "      <th>Category_A</th>\n",
       "      <th>Category_B</th>\n",
       "      <th>Category_C</th>\n",
       "      <th>Category_D</th>\n",
       "    </tr>\n",
       "  </thead>\n",
       "  <tbody>\n",
       "    <tr>\n",
       "      <th>0</th>\n",
       "      <td>1.698298</td>\n",
       "      <td>-0.519379</td>\n",
       "      <td>0.932936</td>\n",
       "      <td>True</td>\n",
       "      <td>False</td>\n",
       "      <td>False</td>\n",
       "      <td>False</td>\n",
       "    </tr>\n",
       "    <tr>\n",
       "      <th>1</th>\n",
       "      <td>0.338384</td>\n",
       "      <td>0.887380</td>\n",
       "      <td>0.932936</td>\n",
       "      <td>False</td>\n",
       "      <td>True</td>\n",
       "      <td>False</td>\n",
       "      <td>False</td>\n",
       "    </tr>\n",
       "    <tr>\n",
       "      <th>2</th>\n",
       "      <td>0.915276</td>\n",
       "      <td>1.442679</td>\n",
       "      <td>-1.071884</td>\n",
       "      <td>False</td>\n",
       "      <td>False</td>\n",
       "      <td>True</td>\n",
       "      <td>False</td>\n",
       "    </tr>\n",
       "    <tr>\n",
       "      <th>3</th>\n",
       "      <td>2.173747</td>\n",
       "      <td>-0.556399</td>\n",
       "      <td>0.932936</td>\n",
       "      <td>False</td>\n",
       "      <td>False</td>\n",
       "      <td>False</td>\n",
       "      <td>True</td>\n",
       "    </tr>\n",
       "    <tr>\n",
       "      <th>4</th>\n",
       "      <td>1.801501</td>\n",
       "      <td>-1.222759</td>\n",
       "      <td>-1.071884</td>\n",
       "      <td>True</td>\n",
       "      <td>False</td>\n",
       "      <td>False</td>\n",
       "      <td>False</td>\n",
       "    </tr>\n",
       "    <tr>\n",
       "      <th>...</th>\n",
       "      <td>...</td>\n",
       "      <td>...</td>\n",
       "      <td>...</td>\n",
       "      <td>...</td>\n",
       "      <td>...</td>\n",
       "      <td>...</td>\n",
       "      <td>...</td>\n",
       "    </tr>\n",
       "    <tr>\n",
       "      <th>96</th>\n",
       "      <td>-0.050136</td>\n",
       "      <td>0.776320</td>\n",
       "      <td>-1.071884</td>\n",
       "      <td>True</td>\n",
       "      <td>False</td>\n",
       "      <td>False</td>\n",
       "      <td>False</td>\n",
       "    </tr>\n",
       "    <tr>\n",
       "      <th>97</th>\n",
       "      <td>1.720052</td>\n",
       "      <td>-0.408319</td>\n",
       "      <td>0.932936</td>\n",
       "      <td>False</td>\n",
       "      <td>True</td>\n",
       "      <td>False</td>\n",
       "      <td>False</td>\n",
       "    </tr>\n",
       "    <tr>\n",
       "      <th>98</th>\n",
       "      <td>0.065937</td>\n",
       "      <td>-0.593419</td>\n",
       "      <td>0.932936</td>\n",
       "      <td>False</td>\n",
       "      <td>False</td>\n",
       "      <td>True</td>\n",
       "      <td>False</td>\n",
       "    </tr>\n",
       "    <tr>\n",
       "      <th>99</th>\n",
       "      <td>0.340211</td>\n",
       "      <td>-0.630439</td>\n",
       "      <td>0.932936</td>\n",
       "      <td>False</td>\n",
       "      <td>False</td>\n",
       "      <td>False</td>\n",
       "      <td>True</td>\n",
       "    </tr>\n",
       "    <tr>\n",
       "      <th>100</th>\n",
       "      <td>0.097159</td>\n",
       "      <td>-0.482359</td>\n",
       "      <td>0.932936</td>\n",
       "      <td>True</td>\n",
       "      <td>False</td>\n",
       "      <td>False</td>\n",
       "      <td>False</td>\n",
       "    </tr>\n",
       "  </tbody>\n",
       "</table>\n",
       "<p>101 rows × 7 columns</p>\n",
       "</div>"
      ],
      "text/plain": [
       "     Feature1  Feature2    Target  Category_A  Category_B  Category_C  \\\n",
       "0    1.698298 -0.519379  0.932936        True       False       False   \n",
       "1    0.338384  0.887380  0.932936       False        True       False   \n",
       "2    0.915276  1.442679 -1.071884       False       False        True   \n",
       "3    2.173747 -0.556399  0.932936       False       False       False   \n",
       "4    1.801501 -1.222759 -1.071884        True       False       False   \n",
       "..        ...       ...       ...         ...         ...         ...   \n",
       "96  -0.050136  0.776320 -1.071884        True       False       False   \n",
       "97   1.720052 -0.408319  0.932936       False        True       False   \n",
       "98   0.065937 -0.593419  0.932936       False       False        True   \n",
       "99   0.340211 -0.630439  0.932936       False       False       False   \n",
       "100  0.097159 -0.482359  0.932936        True       False       False   \n",
       "\n",
       "     Category_D  \n",
       "0         False  \n",
       "1         False  \n",
       "2         False  \n",
       "3          True  \n",
       "4         False  \n",
       "..          ...  \n",
       "96        False  \n",
       "97        False  \n",
       "98        False  \n",
       "99         True  \n",
       "100       False  \n",
       "\n",
       "[101 rows x 7 columns]"
      ]
     },
     "execution_count": 24,
     "metadata": {},
     "output_type": "execute_result"
    }
   ],
   "source": [
    "# Load the data\n",
    "df_preprocessed = load_data(df_dummy)\n",
    "\n",
    "# Handle missing values\n",
    "df_preprocessed = handle_missing_values(df_preprocessed)\n",
    "\n",
    "# Remove outliers\n",
    "df_preprocessed = remove_outliers(df_preprocessed)\n",
    "\n",
    "# Scale the data\n",
    "df_preprocessed = scale_data(df_preprocessed)\n",
    "\n",
    "# Encode categorical variables\n",
    "df_preprocessed = encode_categorical(df_preprocessed, ['Category'])\n",
    "\n",
    "# Display the preprocessed data\n",
    "df_preprocessed"
   ]
  },
  {
   "cell_type": "markdown",
   "id": "68b611f0",
   "metadata": {},
   "source": [
    "Explanation: This code applies the preprocessing steps to the dummy data. It handles missing values by filling them with the mean, removes outliers using the Z-score method, scales the numeric data, and encodes the categorical variables using one-hot encoding."
   ]
  },
  {
   "cell_type": "markdown",
   "id": "292687aa",
   "metadata": {},
   "source": [
    "# 3. Saving the preprocessed data\n",
    "\n",
    "Finally, save the preprocessed data to a new comma-separated values (CSV) file for use in ML tasks. \n"
   ]
  },
  {
   "cell_type": "markdown",
   "id": "207a999f",
   "metadata": {},
   "source": [
    "## Step 4: Save the preprocessed data \n"
   ]
  },
  {
   "cell_type": "code",
   "execution_count": 32,
   "id": "76199a69",
   "metadata": {},
   "outputs": [
    {
     "name": "stdout",
     "output_type": "stream",
     "text": [
      "Preprocessing complete. Preprocessed data saved as preprocessed_dummy_data.csv\n"
     ]
    }
   ],
   "source": [
    "# Save the cleaned and preprocessed DataFrame to a CSV file\n",
    "save_data(df_preprocessed, 'preprocessed_dummy_data.csv')\n",
    "\n",
    "print('Preprocessing complete. Preprocessed data saved as preprocessed_dummy_data.csv')"
   ]
  },
  {
   "cell_type": "markdown",
   "id": "1087b372",
   "metadata": {},
   "source": [
    "Explanation: Saving the preprocessed data to a new file ensures that it’s ready for use in training ML models. This step makes it easy to use the cleaned and processed data in future analysis or modeling efforts.\n",
    "\n"
   ]
  },
  {
   "cell_type": "markdown",
   "id": "a5eea4cf",
   "metadata": {},
   "source": [
    "# 4. Verifying the preprocessing steps \n",
    "\n",
    "After preprocessing, it’s important to verify that the data has been processed correctly:\n",
    "\n"
   ]
  },
  {
   "cell_type": "markdown",
   "id": "aae23e40",
   "metadata": {},
   "source": [
    "Check for missing values: \n",
    "\n",
    "Explanation: This checks that all missing values. have been handled properly.\n"
   ]
  },
  {
   "cell_type": "code",
   "execution_count": 40,
   "id": "0c5c2133",
   "metadata": {},
   "outputs": [
    {
     "data": {
      "application/vnd.microsoft.datawrangler.viewer.v0+json": {
       "columns": [
        {
         "name": "index",
         "rawType": "object",
         "type": "string"
        },
        {
         "name": "0",
         "rawType": "int64",
         "type": "integer"
        }
       ],
       "ref": "c4472438-5ca6-47c6-9e0e-83b79acb1b96",
       "rows": [
        [
         "Feature1",
         "0"
        ],
        [
         "Feature2",
         "0"
        ],
        [
         "Target",
         "0"
        ],
        [
         "Category_A",
         "0"
        ],
        [
         "Category_B",
         "0"
        ],
        [
         "Category_C",
         "0"
        ],
        [
         "Category_D",
         "0"
        ]
       ],
       "shape": {
        "columns": 1,
        "rows": 7
       }
      },
      "text/plain": [
       "Feature1      0\n",
       "Feature2      0\n",
       "Target        0\n",
       "Category_A    0\n",
       "Category_B    0\n",
       "Category_C    0\n",
       "Category_D    0\n",
       "dtype: int64"
      ]
     },
     "execution_count": 40,
     "metadata": {},
     "output_type": "execute_result"
    }
   ],
   "source": [
    "df_preprocessed.isnull().sum()"
   ]
  },
  {
   "cell_type": "markdown",
   "id": "59f4609f",
   "metadata": {},
   "source": [
    "Verify outlier removal:\n",
    "\n",
    "Explanation: This summarizes the dataset and confirms that any extreme values (outliers). have been removed.\n"
   ]
  },
  {
   "cell_type": "code",
   "execution_count": 39,
   "id": "b8dd07e1",
   "metadata": {},
   "outputs": [
    {
     "data": {
      "application/vnd.microsoft.datawrangler.viewer.v0+json": {
       "columns": [
        {
         "name": "index",
         "rawType": "object",
         "type": "string"
        },
        {
         "name": "Feature1",
         "rawType": "float64",
         "type": "float"
        },
        {
         "name": "Feature2",
         "rawType": "float64",
         "type": "float"
        },
        {
         "name": "Target",
         "rawType": "float64",
         "type": "float"
        }
       ],
       "ref": "ab5f1d43-a030-4551-bdd7-a4362f4acb54",
       "rows": [
        [
         "count",
         "101.0",
         "101.0",
         "101.0"
        ],
        [
         "mean",
         "-2.5264444002206378e-15",
         "-3.407615224097015e-17",
         "-2.41830757839143e-17"
        ],
        [
         "std",
         "1.0049875621120892",
         "1.004987562112089",
         "1.004987562112089"
        ],
        [
         "min",
         "-2.606142377740982",
         "-1.704018153716849",
         "-1.0718844015157447"
        ],
        [
         "25%",
         "-0.693075456229159",
         "-0.6674590359041476",
         "-1.0718844015157447"
        ],
        [
         "50%",
         "0.06071481580867567",
         "-0.18619944549110765",
         "0.9329364235414814"
        ],
        [
         "75%",
         "0.6663572491725153",
         "0.8503596723215938",
         "0.9329364235414814"
        ],
        [
         "max",
         "2.202523944312072",
         "1.8869187901342952",
         "0.9329364235414814"
        ]
       ],
       "shape": {
        "columns": 3,
        "rows": 8
       }
      },
      "text/html": [
       "<div>\n",
       "<style scoped>\n",
       "    .dataframe tbody tr th:only-of-type {\n",
       "        vertical-align: middle;\n",
       "    }\n",
       "\n",
       "    .dataframe tbody tr th {\n",
       "        vertical-align: top;\n",
       "    }\n",
       "\n",
       "    .dataframe thead th {\n",
       "        text-align: right;\n",
       "    }\n",
       "</style>\n",
       "<table border=\"1\" class=\"dataframe\">\n",
       "  <thead>\n",
       "    <tr style=\"text-align: right;\">\n",
       "      <th></th>\n",
       "      <th>Feature1</th>\n",
       "      <th>Feature2</th>\n",
       "      <th>Target</th>\n",
       "    </tr>\n",
       "  </thead>\n",
       "  <tbody>\n",
       "    <tr>\n",
       "      <th>count</th>\n",
       "      <td>1.010000e+02</td>\n",
       "      <td>1.010000e+02</td>\n",
       "      <td>1.010000e+02</td>\n",
       "    </tr>\n",
       "    <tr>\n",
       "      <th>mean</th>\n",
       "      <td>-2.526444e-15</td>\n",
       "      <td>-3.407615e-17</td>\n",
       "      <td>-2.418308e-17</td>\n",
       "    </tr>\n",
       "    <tr>\n",
       "      <th>std</th>\n",
       "      <td>1.004988e+00</td>\n",
       "      <td>1.004988e+00</td>\n",
       "      <td>1.004988e+00</td>\n",
       "    </tr>\n",
       "    <tr>\n",
       "      <th>min</th>\n",
       "      <td>-2.606142e+00</td>\n",
       "      <td>-1.704018e+00</td>\n",
       "      <td>-1.071884e+00</td>\n",
       "    </tr>\n",
       "    <tr>\n",
       "      <th>25%</th>\n",
       "      <td>-6.930755e-01</td>\n",
       "      <td>-6.674590e-01</td>\n",
       "      <td>-1.071884e+00</td>\n",
       "    </tr>\n",
       "    <tr>\n",
       "      <th>50%</th>\n",
       "      <td>6.071482e-02</td>\n",
       "      <td>-1.861994e-01</td>\n",
       "      <td>9.329364e-01</td>\n",
       "    </tr>\n",
       "    <tr>\n",
       "      <th>75%</th>\n",
       "      <td>6.663572e-01</td>\n",
       "      <td>8.503597e-01</td>\n",
       "      <td>9.329364e-01</td>\n",
       "    </tr>\n",
       "    <tr>\n",
       "      <th>max</th>\n",
       "      <td>2.202524e+00</td>\n",
       "      <td>1.886919e+00</td>\n",
       "      <td>9.329364e-01</td>\n",
       "    </tr>\n",
       "  </tbody>\n",
       "</table>\n",
       "</div>"
      ],
      "text/plain": [
       "           Feature1      Feature2        Target\n",
       "count  1.010000e+02  1.010000e+02  1.010000e+02\n",
       "mean  -2.526444e-15 -3.407615e-17 -2.418308e-17\n",
       "std    1.004988e+00  1.004988e+00  1.004988e+00\n",
       "min   -2.606142e+00 -1.704018e+00 -1.071884e+00\n",
       "25%   -6.930755e-01 -6.674590e-01 -1.071884e+00\n",
       "50%    6.071482e-02 -1.861994e-01  9.329364e-01\n",
       "75%    6.663572e-01  8.503597e-01  9.329364e-01\n",
       "max    2.202524e+00  1.886919e+00  9.329364e-01"
      ]
     },
     "execution_count": 39,
     "metadata": {},
     "output_type": "execute_result"
    }
   ],
   "source": [
    "df_preprocessed.describe()"
   ]
  },
  {
   "cell_type": "markdown",
   "id": "46e50e22",
   "metadata": {},
   "source": [
    "Inspect scaled data: \n",
    "\n",
    "Explanation: This ensures that the numeric features have been scaled properly, making them ready for ML algorithms.\n",
    "\n"
   ]
  },
  {
   "cell_type": "code",
   "execution_count": 37,
   "id": "c43acc1e",
   "metadata": {},
   "outputs": [
    {
     "data": {
      "application/vnd.microsoft.datawrangler.viewer.v0+json": {
       "columns": [
        {
         "name": "index",
         "rawType": "int64",
         "type": "integer"
        },
        {
         "name": "Feature1",
         "rawType": "float64",
         "type": "float"
        },
        {
         "name": "Feature2",
         "rawType": "float64",
         "type": "float"
        },
        {
         "name": "Target",
         "rawType": "float64",
         "type": "float"
        },
        {
         "name": "Category_A",
         "rawType": "bool",
         "type": "boolean"
        },
        {
         "name": "Category_B",
         "rawType": "bool",
         "type": "boolean"
        },
        {
         "name": "Category_C",
         "rawType": "bool",
         "type": "boolean"
        },
        {
         "name": "Category_D",
         "rawType": "bool",
         "type": "boolean"
        }
       ],
       "ref": "47c26bfb-cdc8-4812-b079-18ab9358e38b",
       "rows": [
        [
         "0",
         "1.6982978664753785",
         "-0.5193791619309046",
         "0.9329364235414814",
         "True",
         "False",
         "False",
         "False"
        ],
        [
         "1",
         "0.3383840877486645",
         "0.8873796408149046",
         "0.9329364235414814",
         "False",
         "True",
         "False",
         "False"
        ],
        [
         "2",
         "0.91527592300917",
         "1.442679168214566",
         "-1.0718844015157447",
         "False",
         "False",
         "True",
         "False"
        ],
        [
         "3",
         "2.173746769177169",
         "-0.5563991304242153",
         "0.9329364235414814",
         "False",
         "False",
         "False",
         "True"
        ],
        [
         "4",
         "1.8015013663772412",
         "-1.2227585633038092",
         "-1.0718844015157447",
         "True",
         "False",
         "False",
         "False"
        ]
       ],
       "shape": {
        "columns": 7,
        "rows": 5
       }
      },
      "text/html": [
       "<div>\n",
       "<style scoped>\n",
       "    .dataframe tbody tr th:only-of-type {\n",
       "        vertical-align: middle;\n",
       "    }\n",
       "\n",
       "    .dataframe tbody tr th {\n",
       "        vertical-align: top;\n",
       "    }\n",
       "\n",
       "    .dataframe thead th {\n",
       "        text-align: right;\n",
       "    }\n",
       "</style>\n",
       "<table border=\"1\" class=\"dataframe\">\n",
       "  <thead>\n",
       "    <tr style=\"text-align: right;\">\n",
       "      <th></th>\n",
       "      <th>Feature1</th>\n",
       "      <th>Feature2</th>\n",
       "      <th>Target</th>\n",
       "      <th>Category_A</th>\n",
       "      <th>Category_B</th>\n",
       "      <th>Category_C</th>\n",
       "      <th>Category_D</th>\n",
       "    </tr>\n",
       "  </thead>\n",
       "  <tbody>\n",
       "    <tr>\n",
       "      <th>0</th>\n",
       "      <td>1.698298</td>\n",
       "      <td>-0.519379</td>\n",
       "      <td>0.932936</td>\n",
       "      <td>True</td>\n",
       "      <td>False</td>\n",
       "      <td>False</td>\n",
       "      <td>False</td>\n",
       "    </tr>\n",
       "    <tr>\n",
       "      <th>1</th>\n",
       "      <td>0.338384</td>\n",
       "      <td>0.887380</td>\n",
       "      <td>0.932936</td>\n",
       "      <td>False</td>\n",
       "      <td>True</td>\n",
       "      <td>False</td>\n",
       "      <td>False</td>\n",
       "    </tr>\n",
       "    <tr>\n",
       "      <th>2</th>\n",
       "      <td>0.915276</td>\n",
       "      <td>1.442679</td>\n",
       "      <td>-1.071884</td>\n",
       "      <td>False</td>\n",
       "      <td>False</td>\n",
       "      <td>True</td>\n",
       "      <td>False</td>\n",
       "    </tr>\n",
       "    <tr>\n",
       "      <th>3</th>\n",
       "      <td>2.173747</td>\n",
       "      <td>-0.556399</td>\n",
       "      <td>0.932936</td>\n",
       "      <td>False</td>\n",
       "      <td>False</td>\n",
       "      <td>False</td>\n",
       "      <td>True</td>\n",
       "    </tr>\n",
       "    <tr>\n",
       "      <th>4</th>\n",
       "      <td>1.801501</td>\n",
       "      <td>-1.222759</td>\n",
       "      <td>-1.071884</td>\n",
       "      <td>True</td>\n",
       "      <td>False</td>\n",
       "      <td>False</td>\n",
       "      <td>False</td>\n",
       "    </tr>\n",
       "  </tbody>\n",
       "</table>\n",
       "</div>"
      ],
      "text/plain": [
       "   Feature1  Feature2    Target  Category_A  Category_B  Category_C  \\\n",
       "0  1.698298 -0.519379  0.932936        True       False       False   \n",
       "1  0.338384  0.887380  0.932936       False        True       False   \n",
       "2  0.915276  1.442679 -1.071884       False       False        True   \n",
       "3  2.173747 -0.556399  0.932936       False       False       False   \n",
       "4  1.801501 -1.222759 -1.071884        True       False       False   \n",
       "\n",
       "   Category_D  \n",
       "0       False  \n",
       "1       False  \n",
       "2       False  \n",
       "3        True  \n",
       "4       False  "
      ]
     },
     "execution_count": 37,
     "metadata": {},
     "output_type": "execute_result"
    }
   ],
   "source": [
    "df_preprocessed.head()"
   ]
  },
  {
   "cell_type": "markdown",
   "id": "27ff67f6",
   "metadata": {},
   "source": [
    "Check categorical encoding:\n",
    "\n",
    "Explanation: This confirms that the categorical variables have been encoded into numerical values correctly.\n",
    "\n"
   ]
  },
  {
   "cell_type": "code",
   "execution_count": 38,
   "id": "b6b94534",
   "metadata": {},
   "outputs": [
    {
     "data": {
      "text/plain": [
       "Index(['Feature1', 'Feature2', 'Target', 'Category_A', 'Category_B',\n",
       "       'Category_C', 'Category_D'],\n",
       "      dtype='object')"
      ]
     },
     "execution_count": 38,
     "metadata": {},
     "output_type": "execute_result"
    }
   ],
   "source": [
    "df_preprocessed.columns"
   ]
  }
 ],
 "metadata": {
  "kernelspec": {
   "display_name": ".venv",
   "language": "python",
   "name": "python3"
  },
  "language_info": {
   "codemirror_mode": {
    "name": "ipython",
    "version": 3
   },
   "file_extension": ".py",
   "mimetype": "text/x-python",
   "name": "python",
   "nbconvert_exporter": "python",
   "pygments_lexer": "ipython3",
   "version": "3.13.2"
  }
 },
 "nbformat": 4,
 "nbformat_minor": 5
}
