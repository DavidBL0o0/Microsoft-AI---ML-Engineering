{
 "cells": [
  {
   "cell_type": "markdown",
   "id": "f95feabc",
   "metadata": {},
   "source": [
    "# Imports"
   ]
  },
  {
   "cell_type": "code",
   "execution_count": 32,
   "id": "f9dc47f0",
   "metadata": {},
   "outputs": [],
   "source": [
    "import requests\n",
    "from bs4 import BeautifulSoup\n",
    "import pandas as pd"
   ]
  },
  {
   "cell_type": "code",
   "execution_count": 23,
   "id": "b38b6a3b",
   "metadata": {},
   "outputs": [],
   "source": [
    "from IPython.display import display, HTML"
   ]
  },
  {
   "cell_type": "markdown",
   "id": "0076e00b",
   "metadata": {},
   "source": [
    "# Web scraping"
   ]
  },
  {
   "cell_type": "markdown",
   "id": "c2613114",
   "metadata": {},
   "source": [
    "## Test URL"
   ]
  },
  {
   "cell_type": "code",
   "execution_count": 34,
   "id": "27e4eeb4",
   "metadata": {},
   "outputs": [
    {
     "name": "stdout",
     "output_type": "stream",
     "text": [
      "Request successful!\n"
     ]
    }
   ],
   "source": [
    "url = 'https://en.wikipedia.org/wiki/Machine_learning'  # Replace with the URL of the website you want to scrape\n",
    "response = requests.get(url)\n",
    "\n",
    "# Check if the request was successful\n",
    "if response.status_code == 200:\n",
    "    print('Request successful!')\n",
    "else:\n",
    "    print('Failed to retrieve the webpage')"
   ]
  },
  {
   "cell_type": "code",
   "execution_count": 35,
   "id": "904add26",
   "metadata": {},
   "outputs": [
    {
     "name": "stdout",
     "output_type": "stream",
     "text": [
      "Machine learning - Wikipedia\n"
     ]
    }
   ],
   "source": [
    "soup = BeautifulSoup(response.content, 'html.parser')\n",
    "\n",
    "# Print the title of the webpage to verify\n",
    "print(soup.title.text)"
   ]
  },
  {
   "cell_type": "markdown",
   "id": "e04acfa9",
   "metadata": {},
   "source": [
    "## Check table"
   ]
  },
  {
   "cell_type": "code",
   "execution_count": 36,
   "id": "d7fc8894",
   "metadata": {},
   "outputs": [
    {
     "data": {
      "application/vnd.microsoft.datawrangler.viewer.v0+json": {
       "columns": [
        {
         "name": "index",
         "rawType": "int64",
         "type": "integer"
        },
        {
         "name": "Column1",
         "rawType": "object",
         "type": "unknown"
        }
       ],
       "ref": "b10bccda-2011-4a3b-aa5a-96c12d951d3e",
       "rows": [
        [
         "0",
         "Part of a series on"
        ],
        [
         "1",
         null
        ],
        [
         "2",
         "Paradigms\nSupervised learning\nUnsupervised learning\nSemi-supervised learning\nSelf-supervised learning\nReinforcement learning\nMeta-learning\nOnline learning\nBatch learning\nCurriculum learning\nRule-based learning\nNeuro-symbolic AI\nNeuromorphic engineering\nQuantum machine learning"
        ],
        [
         "3",
         "Problems\nClassification\nGenerative modeling\nRegression\nClustering\nDimensionality reduction\nDensity estimation\nAnomaly detection\nData cleaning\nAutoML\nAssociation rules\nSemantic analysis\nStructured prediction\nFeature engineering\nFeature learning\nLearning to rank\nGrammar induction\nOntology learning\nMultimodal learning"
        ],
        [
         "4",
         "Supervised learning(classification • regression) \nApprenticeship learning\nDecision trees\nEnsembles\nBagging\nBoosting\nRandom forest\nk-NN\nLinear regression\nNaive Bayes\nArtificial neural networks\nLogistic regression\nPerceptron\nRelevance vector machine (RVM)\nSupport vector machine (SVM)"
        ],
        [
         "5",
         "Clustering\nBIRCH\nCURE\nHierarchical\nk-means\nFuzzy\nExpectation–maximization (EM)\nDBSCAN\nOPTICS\nMean shift"
        ],
        [
         "6",
         "Dimensionality reduction\nFactor analysis\nCCA\nICA\nLDA\nNMF\nPCA\nPGD\nt-SNE\nSDL"
        ],
        [
         "7",
         "Structured prediction\nGraphical models\nBayes net\nConditional random field\nHidden Markov"
        ],
        [
         "8",
         "Anomaly detection\nRANSAC\nk-NN\nLocal outlier factor\nIsolation forest"
        ],
        [
         "9",
         "Neural networks\nAutoencoder\nDeep learning\nFeedforward neural network\nRecurrent neural network\nLSTM\nGRU\nESN\nreservoir computing\nBoltzmann machine\nRestricted\nGAN\nDiffusion model\nSOM\nConvolutional neural network\nU-Net\nLeNet\nAlexNet\nDeepDream\nNeural field\nNeural radiance field\nPhysics-informed neural networks\nTransformer\nVision\nMamba\nSpiking neural network\nMemtransistor\nElectrochemical RAM (ECRAM)"
        ],
        [
         "10",
         "Reinforcement learning\nQ-learning\nPolicy gradient\nSARSA\nTemporal difference (TD)\nMulti-agent\nSelf-play"
        ],
        [
         "11",
         "Learning with humans\nActive learning\nCrowdsourcing\nHuman-in-the-loop\nMechanistic interpretability\nRLHF"
        ],
        [
         "12",
         "Model diagnostics\nCoefficient of determination\nConfusion matrix\nLearning curve\nROC curve"
        ],
        [
         "13",
         "Mathematical foundations\nKernel machines\nBias–variance tradeoff\nComputational learning theory\nEmpirical risk minimization\nOccam learning\nPAC learning\nStatistical learning\nVC theory\nTopological deep learning"
        ],
        [
         "14",
         "Journals and conferences\nAAAI\nECML PKDD\nNeurIPS\nICML\nICLR\nIJCAI\nML\nJMLR"
        ],
        [
         "15",
         "Related articles\nGlossary of artificial intelligence\nList of datasets for machine-learning research\nList of datasets in computer vision and image processing\nOutline of machine learning"
        ],
        [
         "16",
         "vte"
        ]
       ],
       "shape": {
        "columns": 1,
        "rows": 17
       }
      },
      "text/html": [
       "<div>\n",
       "<style scoped>\n",
       "    .dataframe tbody tr th:only-of-type {\n",
       "        vertical-align: middle;\n",
       "    }\n",
       "\n",
       "    .dataframe tbody tr th {\n",
       "        vertical-align: top;\n",
       "    }\n",
       "\n",
       "    .dataframe thead th {\n",
       "        text-align: right;\n",
       "    }\n",
       "</style>\n",
       "<table border=\"1\" class=\"dataframe\">\n",
       "  <thead>\n",
       "    <tr style=\"text-align: right;\">\n",
       "      <th></th>\n",
       "      <th>Column1</th>\n",
       "    </tr>\n",
       "  </thead>\n",
       "  <tbody>\n",
       "    <tr>\n",
       "      <th>0</th>\n",
       "      <td>Part of a series on</td>\n",
       "    </tr>\n",
       "    <tr>\n",
       "      <th>1</th>\n",
       "      <td>None</td>\n",
       "    </tr>\n",
       "    <tr>\n",
       "      <th>2</th>\n",
       "      <td>Paradigms\\nSupervised learning\\nUnsupervised l...</td>\n",
       "    </tr>\n",
       "    <tr>\n",
       "      <th>3</th>\n",
       "      <td>Problems\\nClassification\\nGenerative modeling\\...</td>\n",
       "    </tr>\n",
       "    <tr>\n",
       "      <th>4</th>\n",
       "      <td>Supervised learning(classification • regressio...</td>\n",
       "    </tr>\n",
       "    <tr>\n",
       "      <th>5</th>\n",
       "      <td>Clustering\\nBIRCH\\nCURE\\nHierarchical\\nk-means...</td>\n",
       "    </tr>\n",
       "    <tr>\n",
       "      <th>6</th>\n",
       "      <td>Dimensionality reduction\\nFactor analysis\\nCCA...</td>\n",
       "    </tr>\n",
       "    <tr>\n",
       "      <th>7</th>\n",
       "      <td>Structured prediction\\nGraphical models\\nBayes...</td>\n",
       "    </tr>\n",
       "    <tr>\n",
       "      <th>8</th>\n",
       "      <td>Anomaly detection\\nRANSAC\\nk-NN\\nLocal outlier...</td>\n",
       "    </tr>\n",
       "    <tr>\n",
       "      <th>9</th>\n",
       "      <td>Neural networks\\nAutoencoder\\nDeep learning\\nF...</td>\n",
       "    </tr>\n",
       "    <tr>\n",
       "      <th>10</th>\n",
       "      <td>Reinforcement learning\\nQ-learning\\nPolicy gra...</td>\n",
       "    </tr>\n",
       "    <tr>\n",
       "      <th>11</th>\n",
       "      <td>Learning with humans\\nActive learning\\nCrowdso...</td>\n",
       "    </tr>\n",
       "    <tr>\n",
       "      <th>12</th>\n",
       "      <td>Model diagnostics\\nCoefficient of determinatio...</td>\n",
       "    </tr>\n",
       "    <tr>\n",
       "      <th>13</th>\n",
       "      <td>Mathematical foundations\\nKernel machines\\nBia...</td>\n",
       "    </tr>\n",
       "    <tr>\n",
       "      <th>14</th>\n",
       "      <td>Journals and conferences\\nAAAI\\nECML PKDD\\nNeu...</td>\n",
       "    </tr>\n",
       "    <tr>\n",
       "      <th>15</th>\n",
       "      <td>Related articles\\nGlossary of artificial intel...</td>\n",
       "    </tr>\n",
       "    <tr>\n",
       "      <th>16</th>\n",
       "      <td>vte</td>\n",
       "    </tr>\n",
       "  </tbody>\n",
       "</table>\n",
       "</div>"
      ],
      "text/plain": [
       "                                              Column1\n",
       "0                                 Part of a series on\n",
       "1                                                None\n",
       "2   Paradigms\\nSupervised learning\\nUnsupervised l...\n",
       "3   Problems\\nClassification\\nGenerative modeling\\...\n",
       "4   Supervised learning(classification • regressio...\n",
       "5   Clustering\\nBIRCH\\nCURE\\nHierarchical\\nk-means...\n",
       "6   Dimensionality reduction\\nFactor analysis\\nCCA...\n",
       "7   Structured prediction\\nGraphical models\\nBayes...\n",
       "8   Anomaly detection\\nRANSAC\\nk-NN\\nLocal outlier...\n",
       "9   Neural networks\\nAutoencoder\\nDeep learning\\nF...\n",
       "10  Reinforcement learning\\nQ-learning\\nPolicy gra...\n",
       "11  Learning with humans\\nActive learning\\nCrowdso...\n",
       "12  Model diagnostics\\nCoefficient of determinatio...\n",
       "13  Mathematical foundations\\nKernel machines\\nBia...\n",
       "14  Journals and conferences\\nAAAI\\nECML PKDD\\nNeu...\n",
       "15  Related articles\\nGlossary of artificial intel...\n",
       "16                                                vte"
      ]
     },
     "execution_count": 36,
     "metadata": {},
     "output_type": "execute_result"
    }
   ],
   "source": [
    "table = soup.find('table', class_='sidebar sidebar-collapse nomobile nowraplinks')\n",
    "rows = table.find_all('tr')\n",
    "\n",
    "# Loop through the rows and extract data\n",
    "data = []\n",
    "for row in rows:\n",
    "    cols = row.find_all('td')\n",
    "    cols = [col.text.strip() for col in cols]\n",
    "    data.append(cols)\n",
    "\n",
    "# Convert the data into a pandas DataFrame for easier manipulation\n",
    "df = pd.DataFrame(data, columns=['Column1'])  # Replace with actual column names\n",
    "\n",
    "# Display the scraped data\n",
    "df"
   ]
  },
  {
   "cell_type": "code",
   "execution_count": 37,
   "id": "78bd4bbc",
   "metadata": {},
   "outputs": [
    {
     "data": {
      "text/plain": [
       "<table class=\"sidebar sidebar-collapse nomobile nowraplinks\"><tbody><tr><td class=\"sidebar-pretitle\">Part of a series on</td></tr><tr><th class=\"sidebar-title-with-pretitle\"><a class=\"mw-selflink selflink\">Machine learning</a><br/>and <a href=\"/wiki/Data_mining\" title=\"Data mining\">data mining</a></th></tr><tr><td class=\"sidebar-content\">\n",
       "<div class=\"sidebar-list mw-collapsible mw-collapsed machine-learning-list-title\"><div class=\"sidebar-list-title\" style=\"border-top:1px solid #aaa; text-align:center;;color: var(--color-base)\">Paradigms</div><div class=\"sidebar-list-content mw-collapsible-content hlist\">\n",
       "<ul><li><a href=\"/wiki/Supervised_learning\" title=\"Supervised learning\">Supervised learning</a></li>\n",
       "<li><a href=\"/wiki/Unsupervised_learning\" title=\"Unsupervised learning\">Unsupervised learning</a></li>\n",
       "<li><a class=\"mw-redirect\" href=\"/wiki/Semi-supervised_learning\" title=\"Semi-supervised learning\">Semi-supervised learning</a></li>\n",
       "<li><a href=\"/wiki/Self-supervised_learning\" title=\"Self-supervised learning\">Self-supervised learning</a></li>\n",
       "<li><a href=\"/wiki/Reinforcement_learning\" title=\"Reinforcement learning\">Reinforcement learning</a></li>\n",
       "<li><a href=\"/wiki/Meta-learning_(computer_science)\" title=\"Meta-learning (computer science)\">Meta-learning</a></li>\n",
       "<li><a href=\"/wiki/Online_machine_learning\" title=\"Online machine learning\">Online learning</a></li>\n",
       "<li><a class=\"mw-redirect\" href=\"/wiki/Batch_learning\" title=\"Batch learning\">Batch learning</a></li>\n",
       "<li><a href=\"/wiki/Curriculum_learning\" title=\"Curriculum learning\">Curriculum learning</a></li>\n",
       "<li><a href=\"/wiki/Rule-based_machine_learning\" title=\"Rule-based machine learning\">Rule-based learning</a></li>\n",
       "<li><a href=\"/wiki/Neuro-symbolic_AI\" title=\"Neuro-symbolic AI\">Neuro-symbolic AI</a></li>\n",
       "<li><a class=\"mw-redirect\" href=\"/wiki/Neuromorphic_engineering\" title=\"Neuromorphic engineering\">Neuromorphic engineering</a></li>\n",
       "<li><a href=\"/wiki/Quantum_machine_learning\" title=\"Quantum machine learning\">Quantum machine learning</a></li></ul></div></div></td>\n",
       "</tr><tr><td class=\"sidebar-content\">\n",
       "<div class=\"sidebar-list mw-collapsible mw-collapsed machine-learning-list-title\"><div class=\"sidebar-list-title\" style=\"border-top:1px solid #aaa; text-align:center;;color: var(--color-base)\">Problems</div><div class=\"sidebar-list-content mw-collapsible-content hlist\">\n",
       "<ul><li><a href=\"/wiki/Statistical_classification\" title=\"Statistical classification\">Classification</a></li>\n",
       "<li><a href=\"/wiki/Generative_model\" title=\"Generative model\">Generative modeling</a></li>\n",
       "<li><a href=\"/wiki/Regression_analysis\" title=\"Regression analysis\">Regression</a></li>\n",
       "<li><a href=\"/wiki/Cluster_analysis\" title=\"Cluster analysis\">Clustering</a></li>\n",
       "<li><a href=\"/wiki/Dimensionality_reduction\" title=\"Dimensionality reduction\">Dimensionality reduction</a></li>\n",
       "<li><a href=\"/wiki/Density_estimation\" title=\"Density estimation\">Density estimation</a></li>\n",
       "<li><a href=\"/wiki/Anomaly_detection\" title=\"Anomaly detection\">Anomaly detection</a></li>\n",
       "<li><a class=\"mw-redirect\" href=\"/wiki/Data_cleaning\" title=\"Data cleaning\">Data cleaning</a></li>\n",
       "<li><a href=\"/wiki/Automated_machine_learning\" title=\"Automated machine learning\">AutoML</a></li>\n",
       "<li><a href=\"/wiki/Association_rule_learning\" title=\"Association rule learning\">Association rules</a></li>\n",
       "<li><a href=\"/wiki/Semantic_analysis_(machine_learning)\" title=\"Semantic analysis (machine learning)\">Semantic analysis</a></li>\n",
       "<li><a href=\"/wiki/Structured_prediction\" title=\"Structured prediction\">Structured prediction</a></li>\n",
       "<li><a href=\"/wiki/Feature_engineering\" title=\"Feature engineering\">Feature engineering</a></li>\n",
       "<li><a href=\"/wiki/Feature_learning\" title=\"Feature learning\">Feature learning</a></li>\n",
       "<li><a href=\"/wiki/Learning_to_rank\" title=\"Learning to rank\">Learning to rank</a></li>\n",
       "<li><a href=\"/wiki/Grammar_induction\" title=\"Grammar induction\">Grammar induction</a></li>\n",
       "<li><a href=\"/wiki/Ontology_learning\" title=\"Ontology learning\">Ontology learning</a></li>\n",
       "<li><a href=\"/wiki/Multimodal_learning\" title=\"Multimodal learning\">Multimodal learning</a></li></ul></div></div></td>\n",
       "</tr><tr><td class=\"sidebar-content\">\n",
       "<div class=\"sidebar-list mw-collapsible mw-collapsed machine-learning-list-title\"><div class=\"sidebar-list-title\" style=\"border-top:1px solid #aaa; text-align:center;;color: var(--color-base)\"><div style=\"display: inline-block; line-height: 1.2em; padding: .1em 0;\"><a href=\"/wiki/Supervised_learning\" title=\"Supervised learning\">Supervised learning</a><br/><span class=\"nobold\"><span style=\"font-size: 85%;\">(<b><a href=\"/wiki/Statistical_classification\" title=\"Statistical classification\">classification</a></b> • <b><a href=\"/wiki/Regression_analysis\" title=\"Regression analysis\">regression</a></b>)</span></span> </div></div><div class=\"sidebar-list-content mw-collapsible-content hlist\">\n",
       "<ul><li><a href=\"/wiki/Apprenticeship_learning\" title=\"Apprenticeship learning\">Apprenticeship learning</a></li>\n",
       "<li><a href=\"/wiki/Decision_tree_learning\" title=\"Decision tree learning\">Decision trees</a></li>\n",
       "<li><a href=\"/wiki/Ensemble_learning\" title=\"Ensemble learning\">Ensembles</a>\n",
       "<ul><li><a href=\"/wiki/Bootstrap_aggregating\" title=\"Bootstrap aggregating\">Bagging</a></li>\n",
       "<li><a href=\"/wiki/Boosting_(machine_learning)\" title=\"Boosting (machine learning)\">Boosting</a></li>\n",
       "<li><a href=\"/wiki/Random_forest\" title=\"Random forest\">Random forest</a></li></ul></li>\n",
       "<li><a href=\"/wiki/K-nearest_neighbors_algorithm\" title=\"K-nearest neighbors algorithm\"><i>k</i>-NN</a></li>\n",
       "<li><a href=\"/wiki/Linear_regression\" title=\"Linear regression\">Linear regression</a></li>\n",
       "<li><a href=\"/wiki/Naive_Bayes_classifier\" title=\"Naive Bayes classifier\">Naive Bayes</a></li>\n",
       "<li><a class=\"mw-redirect\" href=\"/wiki/Artificial_neural_network\" title=\"Artificial neural network\">Artificial neural networks</a></li>\n",
       "<li><a href=\"/wiki/Logistic_regression\" title=\"Logistic regression\">Logistic regression</a></li>\n",
       "<li><a href=\"/wiki/Perceptron\" title=\"Perceptron\">Perceptron</a></li>\n",
       "<li><a href=\"/wiki/Relevance_vector_machine\" title=\"Relevance vector machine\">Relevance vector machine (RVM)</a></li>\n",
       "<li><a href=\"/wiki/Support_vector_machine\" title=\"Support vector machine\">Support vector machine (SVM)</a></li></ul></div></div></td>\n",
       "</tr><tr><td class=\"sidebar-content\">\n",
       "<div class=\"sidebar-list mw-collapsible mw-collapsed machine-learning-list-title\"><div class=\"sidebar-list-title\" style=\"border-top:1px solid #aaa; text-align:center;;color: var(--color-base)\"><a href=\"/wiki/Cluster_analysis\" title=\"Cluster analysis\">Clustering</a></div><div class=\"sidebar-list-content mw-collapsible-content hlist\">\n",
       "<ul><li><a href=\"/wiki/BIRCH\" title=\"BIRCH\">BIRCH</a></li>\n",
       "<li><a href=\"/wiki/CURE_algorithm\" title=\"CURE algorithm\">CURE</a></li>\n",
       "<li><a href=\"/wiki/Hierarchical_clustering\" title=\"Hierarchical clustering\">Hierarchical</a></li>\n",
       "<li><a href=\"/wiki/K-means_clustering\" title=\"K-means clustering\"><i>k</i>-means</a></li>\n",
       "<li><a href=\"/wiki/Fuzzy_clustering\" title=\"Fuzzy clustering\">Fuzzy</a></li>\n",
       "<li><a href=\"/wiki/Expectation%E2%80%93maximization_algorithm\" title=\"Expectation–maximization algorithm\">Expectation–maximization (EM)</a></li>\n",
       "<li><br/><a href=\"/wiki/DBSCAN\" title=\"DBSCAN\">DBSCAN</a></li>\n",
       "<li><a href=\"/wiki/OPTICS_algorithm\" title=\"OPTICS algorithm\">OPTICS</a></li>\n",
       "<li><a href=\"/wiki/Mean_shift\" title=\"Mean shift\">Mean shift</a></li></ul></div></div></td>\n",
       "</tr><tr><td class=\"sidebar-content\">\n",
       "<div class=\"sidebar-list mw-collapsible mw-collapsed machine-learning-list-title\"><div class=\"sidebar-list-title\" style=\"border-top:1px solid #aaa; text-align:center;;color: var(--color-base)\"><a href=\"/wiki/Dimensionality_reduction\" title=\"Dimensionality reduction\">Dimensionality reduction</a></div><div class=\"sidebar-list-content mw-collapsible-content hlist\">\n",
       "<ul><li><a href=\"/wiki/Factor_analysis\" title=\"Factor analysis\">Factor analysis</a></li>\n",
       "<li><a href=\"/wiki/Canonical_correlation\" title=\"Canonical correlation\">CCA</a></li>\n",
       "<li><a href=\"/wiki/Independent_component_analysis\" title=\"Independent component analysis\">ICA</a></li>\n",
       "<li><a href=\"/wiki/Linear_discriminant_analysis\" title=\"Linear discriminant analysis\">LDA</a></li>\n",
       "<li><a href=\"/wiki/Non-negative_matrix_factorization\" title=\"Non-negative matrix factorization\">NMF</a></li>\n",
       "<li><a href=\"/wiki/Principal_component_analysis\" title=\"Principal component analysis\">PCA</a></li>\n",
       "<li><a href=\"/wiki/Proper_generalized_decomposition\" title=\"Proper generalized decomposition\">PGD</a></li>\n",
       "<li><a href=\"/wiki/T-distributed_stochastic_neighbor_embedding\" title=\"T-distributed stochastic neighbor embedding\">t-SNE</a></li>\n",
       "<li><a href=\"/wiki/Sparse_dictionary_learning\" title=\"Sparse dictionary learning\">SDL</a></li></ul></div></div></td>\n",
       "</tr><tr><td class=\"sidebar-content\">\n",
       "<div class=\"sidebar-list mw-collapsible mw-collapsed machine-learning-list-title\"><div class=\"sidebar-list-title\" style=\"border-top:1px solid #aaa; text-align:center;;color: var(--color-base)\"><a href=\"/wiki/Structured_prediction\" title=\"Structured prediction\">Structured prediction</a></div><div class=\"sidebar-list-content mw-collapsible-content hlist\">\n",
       "<ul><li><a href=\"/wiki/Graphical_model\" title=\"Graphical model\">Graphical models</a>\n",
       "<ul><li><a href=\"/wiki/Bayesian_network\" title=\"Bayesian network\">Bayes net</a></li>\n",
       "<li><a href=\"/wiki/Conditional_random_field\" title=\"Conditional random field\">Conditional random field</a></li>\n",
       "<li><a href=\"/wiki/Hidden_Markov_model\" title=\"Hidden Markov model\">Hidden Markov</a></li></ul></li></ul></div></div></td>\n",
       "</tr><tr><td class=\"sidebar-content\">\n",
       "<div class=\"sidebar-list mw-collapsible mw-collapsed machine-learning-list-title\"><div class=\"sidebar-list-title\" style=\"border-top:1px solid #aaa; text-align:center;;color: var(--color-base)\"><a href=\"/wiki/Anomaly_detection\" title=\"Anomaly detection\">Anomaly detection</a></div><div class=\"sidebar-list-content mw-collapsible-content hlist\">\n",
       "<ul><li><a href=\"/wiki/Random_sample_consensus\" title=\"Random sample consensus\">RANSAC</a></li>\n",
       "<li><a href=\"/wiki/K-nearest_neighbors_algorithm\" title=\"K-nearest neighbors algorithm\"><i>k</i>-NN</a></li>\n",
       "<li><a href=\"/wiki/Local_outlier_factor\" title=\"Local outlier factor\">Local outlier factor</a></li>\n",
       "<li><a href=\"/wiki/Isolation_forest\" title=\"Isolation forest\">Isolation forest</a></li></ul></div></div></td>\n",
       "</tr><tr><td class=\"sidebar-content\">\n",
       "<div class=\"sidebar-list mw-collapsible mw-collapsed machine-learning-list-title\"><div class=\"sidebar-list-title\" style=\"border-top:1px solid #aaa; text-align:center;;color: var(--color-base)\"><a href=\"/wiki/Neural_network_(machine_learning)\" title=\"Neural network (machine learning)\">Neural networks</a></div><div class=\"sidebar-list-content mw-collapsible-content hlist\">\n",
       "<ul><li><a href=\"/wiki/Autoencoder\" title=\"Autoencoder\">Autoencoder</a></li>\n",
       "<li><a href=\"/wiki/Deep_learning\" title=\"Deep learning\">Deep learning</a></li>\n",
       "<li><a href=\"/wiki/Feedforward_neural_network\" title=\"Feedforward neural network\">Feedforward neural network</a></li>\n",
       "<li><a href=\"/wiki/Recurrent_neural_network\" title=\"Recurrent neural network\">Recurrent neural network</a>\n",
       "<ul><li><a href=\"/wiki/Long_short-term_memory\" title=\"Long short-term memory\">LSTM</a></li>\n",
       "<li><a href=\"/wiki/Gated_recurrent_unit\" title=\"Gated recurrent unit\">GRU</a></li>\n",
       "<li><a href=\"/wiki/Echo_state_network\" title=\"Echo state network\">ESN</a></li>\n",
       "<li><a href=\"/wiki/Reservoir_computing\" title=\"Reservoir computing\">reservoir computing</a></li></ul></li>\n",
       "<li><a href=\"/wiki/Boltzmann_machine\" title=\"Boltzmann machine\">Boltzmann machine</a>\n",
       "<ul><li><a href=\"/wiki/Restricted_Boltzmann_machine\" title=\"Restricted Boltzmann machine\">Restricted</a></li></ul></li>\n",
       "<li><a href=\"/wiki/Generative_adversarial_network\" title=\"Generative adversarial network\">GAN</a></li>\n",
       "<li><a href=\"/wiki/Diffusion_model\" title=\"Diffusion model\">Diffusion model</a></li>\n",
       "<li><a href=\"/wiki/Self-organizing_map\" title=\"Self-organizing map\">SOM</a></li>\n",
       "<li><a href=\"/wiki/Convolutional_neural_network\" title=\"Convolutional neural network\">Convolutional neural network</a>\n",
       "<ul><li><a href=\"/wiki/U-Net\" title=\"U-Net\">U-Net</a></li>\n",
       "<li><a href=\"/wiki/LeNet\" title=\"LeNet\">LeNet</a></li>\n",
       "<li><a href=\"/wiki/AlexNet\" title=\"AlexNet\">AlexNet</a></li>\n",
       "<li><a href=\"/wiki/DeepDream\" title=\"DeepDream\">DeepDream</a></li></ul></li>\n",
       "<li><a href=\"/wiki/Neural_field\" title=\"Neural field\">Neural field</a>\n",
       "<ul><li><a href=\"/wiki/Neural_radiance_field\" title=\"Neural radiance field\">Neural radiance field</a></li>\n",
       "<li><a href=\"/wiki/Physics-informed_neural_networks\" title=\"Physics-informed neural networks\">Physics-informed neural networks</a></li></ul></li>\n",
       "<li><a href=\"/wiki/Transformer_(deep_learning_architecture)\" title=\"Transformer (deep learning architecture)\">Transformer</a>\n",
       "<ul><li><a href=\"/wiki/Vision_transformer\" title=\"Vision transformer\">Vision</a></li></ul></li>\n",
       "<li><a href=\"/wiki/Mamba_(deep_learning_architecture)\" title=\"Mamba (deep learning architecture)\">Mamba</a></li>\n",
       "<li><a href=\"/wiki/Spiking_neural_network\" title=\"Spiking neural network\">Spiking neural network</a></li>\n",
       "<li><a href=\"/wiki/Memtransistor\" title=\"Memtransistor\">Memtransistor</a></li>\n",
       "<li><a href=\"/wiki/Electrochemical_RAM\" title=\"Electrochemical RAM\">Electrochemical RAM</a> (ECRAM)</li></ul></div></div></td>\n",
       "</tr><tr><td class=\"sidebar-content\">\n",
       "<div class=\"sidebar-list mw-collapsible mw-collapsed machine-learning-list-title\"><div class=\"sidebar-list-title\" style=\"border-top:1px solid #aaa; text-align:center;;color: var(--color-base)\"><a href=\"/wiki/Reinforcement_learning\" title=\"Reinforcement learning\">Reinforcement learning</a></div><div class=\"sidebar-list-content mw-collapsible-content hlist\">\n",
       "<ul><li><a href=\"/wiki/Q-learning\" title=\"Q-learning\">Q-learning</a></li>\n",
       "<li><a href=\"/wiki/Policy_gradient_method\" title=\"Policy gradient method\">Policy gradient</a></li>\n",
       "<li><a href=\"/wiki/State%E2%80%93action%E2%80%93reward%E2%80%93state%E2%80%93action\" title=\"State–action–reward–state–action\">SARSA</a></li>\n",
       "<li><a href=\"/wiki/Temporal_difference_learning\" title=\"Temporal difference learning\">Temporal difference (TD)</a></li>\n",
       "<li><a href=\"/wiki/Multi-agent_reinforcement_learning\" title=\"Multi-agent reinforcement learning\">Multi-agent</a>\n",
       "<ul><li><a class=\"mw-redirect\" href=\"/wiki/Self-play_(reinforcement_learning_technique)\" title=\"Self-play (reinforcement learning technique)\">Self-play</a></li></ul></li></ul></div></div></td>\n",
       "</tr><tr><td class=\"sidebar-content\">\n",
       "<div class=\"sidebar-list mw-collapsible mw-collapsed machine-learning-list-title\"><div class=\"sidebar-list-title\" style=\"border-top:1px solid #aaa; text-align:center;;color: var(--color-base)\">Learning with humans</div><div class=\"sidebar-list-content mw-collapsible-content hlist\">\n",
       "<ul><li><a href=\"/wiki/Active_learning_(machine_learning)\" title=\"Active learning (machine learning)\">Active learning</a></li>\n",
       "<li><a href=\"/wiki/Crowdsourcing\" title=\"Crowdsourcing\">Crowdsourcing</a></li>\n",
       "<li><a href=\"/wiki/Human-in-the-loop\" title=\"Human-in-the-loop\">Human-in-the-loop</a></li>\n",
       "<li><a href=\"/wiki/Mechanistic_interpretability\" title=\"Mechanistic interpretability\">Mechanistic interpretability</a></li>\n",
       "<li><a href=\"/wiki/Reinforcement_learning_from_human_feedback\" title=\"Reinforcement learning from human feedback\">RLHF</a></li></ul></div></div></td>\n",
       "</tr><tr><td class=\"sidebar-content\">\n",
       "<div class=\"sidebar-list mw-collapsible mw-collapsed machine-learning-list-title\"><div class=\"sidebar-list-title\" style=\"border-top:1px solid #aaa; text-align:center;;color: var(--color-base)\">Model diagnostics</div><div class=\"sidebar-list-content mw-collapsible-content hlist\">\n",
       "<ul><li><a href=\"/wiki/Coefficient_of_determination\" title=\"Coefficient of determination\">Coefficient of determination</a></li>\n",
       "<li><a href=\"/wiki/Confusion_matrix\" title=\"Confusion matrix\">Confusion matrix</a></li>\n",
       "<li><a href=\"/wiki/Learning_curve_(machine_learning)\" title=\"Learning curve (machine learning)\">Learning curve</a></li>\n",
       "<li><a href=\"/wiki/Receiver_operating_characteristic\" title=\"Receiver operating characteristic\">ROC curve</a></li></ul></div></div></td>\n",
       "</tr><tr><td class=\"sidebar-content\">\n",
       "<div class=\"sidebar-list mw-collapsible mw-collapsed machine-learning-list-title\"><div class=\"sidebar-list-title\" style=\"border-top:1px solid #aaa; text-align:center;;color: var(--color-base)\">Mathematical foundations</div><div class=\"sidebar-list-content mw-collapsible-content hlist\">\n",
       "<ul><li><a class=\"mw-redirect\" href=\"/wiki/Kernel_machines\" title=\"Kernel machines\">Kernel machines</a></li>\n",
       "<li><a href=\"/wiki/Bias%E2%80%93variance_tradeoff\" title=\"Bias–variance tradeoff\">Bias–variance tradeoff</a></li>\n",
       "<li><a href=\"/wiki/Computational_learning_theory\" title=\"Computational learning theory\">Computational learning theory</a></li>\n",
       "<li><a href=\"/wiki/Empirical_risk_minimization\" title=\"Empirical risk minimization\">Empirical risk minimization</a></li>\n",
       "<li><a href=\"/wiki/Occam_learning\" title=\"Occam learning\">Occam learning</a></li>\n",
       "<li><a href=\"/wiki/Probably_approximately_correct_learning\" title=\"Probably approximately correct learning\">PAC learning</a></li>\n",
       "<li><a href=\"/wiki/Statistical_learning_theory\" title=\"Statistical learning theory\">Statistical learning</a></li>\n",
       "<li><a href=\"/wiki/Vapnik%E2%80%93Chervonenkis_theory\" title=\"Vapnik–Chervonenkis theory\">VC theory</a></li>\n",
       "<li><a href=\"/wiki/Topological_deep_learning\" title=\"Topological deep learning\">Topological deep learning</a></li></ul></div></div></td>\n",
       "</tr><tr><td class=\"sidebar-content\">\n",
       "<div class=\"sidebar-list mw-collapsible mw-collapsed machine-learning-list-title\"><div class=\"sidebar-list-title\" style=\"border-top:1px solid #aaa; text-align:center;;color: var(--color-base)\">Journals and conferences</div><div class=\"sidebar-list-content mw-collapsible-content hlist\">\n",
       "<ul><li><a href=\"/wiki/AAAI_Conference_on_Artificial_Intelligence\" title=\"AAAI Conference on Artificial Intelligence\">AAAI</a></li>\n",
       "<li><a href=\"/wiki/ECML_PKDD\" title=\"ECML PKDD\">ECML PKDD</a></li>\n",
       "<li><a href=\"/wiki/Conference_on_Neural_Information_Processing_Systems\" title=\"Conference on Neural Information Processing Systems\">NeurIPS</a></li>\n",
       "<li><a href=\"/wiki/International_Conference_on_Machine_Learning\" title=\"International Conference on Machine Learning\">ICML</a></li>\n",
       "<li><a href=\"/wiki/International_Conference_on_Learning_Representations\" title=\"International Conference on Learning Representations\">ICLR</a></li>\n",
       "<li><a href=\"/wiki/International_Joint_Conference_on_Artificial_Intelligence\" title=\"International Joint Conference on Artificial Intelligence\">IJCAI</a></li>\n",
       "<li><a href=\"/wiki/Machine_Learning_(journal)\" title=\"Machine Learning (journal)\">ML</a></li>\n",
       "<li><a href=\"/wiki/Journal_of_Machine_Learning_Research\" title=\"Journal of Machine Learning Research\">JMLR</a></li></ul></div></div></td>\n",
       "</tr><tr><td class=\"sidebar-content\">\n",
       "<div class=\"sidebar-list mw-collapsible mw-collapsed machine-learning-list-title\"><div class=\"sidebar-list-title\" style=\"border-top:1px solid #aaa; text-align:center;;color: var(--color-base)\">Related articles</div><div class=\"sidebar-list-content mw-collapsible-content hlist\">\n",
       "<ul><li><a href=\"/wiki/Glossary_of_artificial_intelligence\" title=\"Glossary of artificial intelligence\">Glossary of artificial intelligence</a></li>\n",
       "<li><a href=\"/wiki/List_of_datasets_for_machine-learning_research\" title=\"List of datasets for machine-learning research\">List of datasets for machine-learning research</a>\n",
       "<ul><li><a href=\"/wiki/List_of_datasets_in_computer_vision_and_image_processing\" title=\"List of datasets in computer vision and image processing\">List of datasets in computer vision and image processing</a></li></ul></li>\n",
       "<li><a href=\"/wiki/Outline_of_machine_learning\" title=\"Outline of machine learning\">Outline of machine learning</a></li></ul></div></div></td>\n",
       "</tr><tr><td class=\"sidebar-navbar\"><link href=\"mw-data:TemplateStyles:r1129693374\" rel=\"mw-deduplicated-inline-style\"/><style data-mw-deduplicate=\"TemplateStyles:r1239400231\">.mw-parser-output .navbar{display:inline;font-size:88%;font-weight:normal}.mw-parser-output .navbar-collapse{float:left;text-align:left}.mw-parser-output .navbar-boxtext{word-spacing:0}.mw-parser-output .navbar ul{display:inline-block;white-space:nowrap;line-height:inherit}.mw-parser-output .navbar-brackets::before{margin-right:-0.125em;content:\"[ \"}.mw-parser-output .navbar-brackets::after{margin-left:-0.125em;content:\" ]\"}.mw-parser-output .navbar li{word-spacing:-0.125em}.mw-parser-output .navbar a>span,.mw-parser-output .navbar a>abbr{text-decoration:inherit}.mw-parser-output .navbar-mini abbr{font-variant:small-caps;border-bottom:none;text-decoration:none;cursor:inherit}.mw-parser-output .navbar-ct-full{font-size:114%;margin:0 7em}.mw-parser-output .navbar-ct-mini{font-size:114%;margin:0 4em}html.skin-theme-clientpref-night .mw-parser-output .navbar li a abbr{color:var(--color-base)!important}@media(prefers-color-scheme:dark){html.skin-theme-clientpref-os .mw-parser-output .navbar li a abbr{color:var(--color-base)!important}}@media print{.mw-parser-output .navbar{display:none!important}}</style><div class=\"navbar plainlinks hlist navbar-mini\"><ul><li class=\"nv-view\"><a href=\"/wiki/Template:Machine_learning\" title=\"Template:Machine learning\"><abbr title=\"View this template\">v</abbr></a></li><li class=\"nv-talk\"><a href=\"/wiki/Template_talk:Machine_learning\" title=\"Template talk:Machine learning\"><abbr title=\"Discuss this template\">t</abbr></a></li><li class=\"nv-edit\"><a href=\"/wiki/Special:EditPage/Template:Machine_learning\" title=\"Special:EditPage/Template:Machine learning\"><abbr title=\"Edit this template\">e</abbr></a></li></ul></div></td></tr></tbody></table>"
      ]
     },
     "execution_count": 37,
     "metadata": {},
     "output_type": "execute_result"
    }
   ],
   "source": [
    "table = soup.find('table', class_='sidebar sidebar-collapse nomobile nowraplinks')\n",
    "table"
   ]
  },
  {
   "cell_type": "code",
   "execution_count": 38,
   "id": "74ffe424",
   "metadata": {},
   "outputs": [
    {
     "data": {
      "text/html": [
       "<table class=\"sidebar sidebar-collapse nomobile nowraplinks\"><tbody><tr><td class=\"sidebar-pretitle\">Part of a series on</td></tr><tr><th class=\"sidebar-title-with-pretitle\"><a class=\"mw-selflink selflink\">Machine learning</a><br/>and <a href=\"/wiki/Data_mining\" title=\"Data mining\">data mining</a></th></tr><tr><td class=\"sidebar-content\">\n",
       "<div class=\"sidebar-list mw-collapsible mw-collapsed machine-learning-list-title\"><div class=\"sidebar-list-title\" style=\"border-top:1px solid #aaa; text-align:center;;color: var(--color-base)\">Paradigms</div><div class=\"sidebar-list-content mw-collapsible-content hlist\">\n",
       "<ul><li><a href=\"/wiki/Supervised_learning\" title=\"Supervised learning\">Supervised learning</a></li>\n",
       "<li><a href=\"/wiki/Unsupervised_learning\" title=\"Unsupervised learning\">Unsupervised learning</a></li>\n",
       "<li><a class=\"mw-redirect\" href=\"/wiki/Semi-supervised_learning\" title=\"Semi-supervised learning\">Semi-supervised learning</a></li>\n",
       "<li><a href=\"/wiki/Self-supervised_learning\" title=\"Self-supervised learning\">Self-supervised learning</a></li>\n",
       "<li><a href=\"/wiki/Reinforcement_learning\" title=\"Reinforcement learning\">Reinforcement learning</a></li>\n",
       "<li><a href=\"/wiki/Meta-learning_(computer_science)\" title=\"Meta-learning (computer science)\">Meta-learning</a></li>\n",
       "<li><a href=\"/wiki/Online_machine_learning\" title=\"Online machine learning\">Online learning</a></li>\n",
       "<li><a class=\"mw-redirect\" href=\"/wiki/Batch_learning\" title=\"Batch learning\">Batch learning</a></li>\n",
       "<li><a href=\"/wiki/Curriculum_learning\" title=\"Curriculum learning\">Curriculum learning</a></li>\n",
       "<li><a href=\"/wiki/Rule-based_machine_learning\" title=\"Rule-based machine learning\">Rule-based learning</a></li>\n",
       "<li><a href=\"/wiki/Neuro-symbolic_AI\" title=\"Neuro-symbolic AI\">Neuro-symbolic AI</a></li>\n",
       "<li><a class=\"mw-redirect\" href=\"/wiki/Neuromorphic_engineering\" title=\"Neuromorphic engineering\">Neuromorphic engineering</a></li>\n",
       "<li><a href=\"/wiki/Quantum_machine_learning\" title=\"Quantum machine learning\">Quantum machine learning</a></li></ul></div></div></td>\n",
       "</tr><tr><td class=\"sidebar-content\">\n",
       "<div class=\"sidebar-list mw-collapsible mw-collapsed machine-learning-list-title\"><div class=\"sidebar-list-title\" style=\"border-top:1px solid #aaa; text-align:center;;color: var(--color-base)\">Problems</div><div class=\"sidebar-list-content mw-collapsible-content hlist\">\n",
       "<ul><li><a href=\"/wiki/Statistical_classification\" title=\"Statistical classification\">Classification</a></li>\n",
       "<li><a href=\"/wiki/Generative_model\" title=\"Generative model\">Generative modeling</a></li>\n",
       "<li><a href=\"/wiki/Regression_analysis\" title=\"Regression analysis\">Regression</a></li>\n",
       "<li><a href=\"/wiki/Cluster_analysis\" title=\"Cluster analysis\">Clustering</a></li>\n",
       "<li><a href=\"/wiki/Dimensionality_reduction\" title=\"Dimensionality reduction\">Dimensionality reduction</a></li>\n",
       "<li><a href=\"/wiki/Density_estimation\" title=\"Density estimation\">Density estimation</a></li>\n",
       "<li><a href=\"/wiki/Anomaly_detection\" title=\"Anomaly detection\">Anomaly detection</a></li>\n",
       "<li><a class=\"mw-redirect\" href=\"/wiki/Data_cleaning\" title=\"Data cleaning\">Data cleaning</a></li>\n",
       "<li><a href=\"/wiki/Automated_machine_learning\" title=\"Automated machine learning\">AutoML</a></li>\n",
       "<li><a href=\"/wiki/Association_rule_learning\" title=\"Association rule learning\">Association rules</a></li>\n",
       "<li><a href=\"/wiki/Semantic_analysis_(machine_learning)\" title=\"Semantic analysis (machine learning)\">Semantic analysis</a></li>\n",
       "<li><a href=\"/wiki/Structured_prediction\" title=\"Structured prediction\">Structured prediction</a></li>\n",
       "<li><a href=\"/wiki/Feature_engineering\" title=\"Feature engineering\">Feature engineering</a></li>\n",
       "<li><a href=\"/wiki/Feature_learning\" title=\"Feature learning\">Feature learning</a></li>\n",
       "<li><a href=\"/wiki/Learning_to_rank\" title=\"Learning to rank\">Learning to rank</a></li>\n",
       "<li><a href=\"/wiki/Grammar_induction\" title=\"Grammar induction\">Grammar induction</a></li>\n",
       "<li><a href=\"/wiki/Ontology_learning\" title=\"Ontology learning\">Ontology learning</a></li>\n",
       "<li><a href=\"/wiki/Multimodal_learning\" title=\"Multimodal learning\">Multimodal learning</a></li></ul></div></div></td>\n",
       "</tr><tr><td class=\"sidebar-content\">\n",
       "<div class=\"sidebar-list mw-collapsible mw-collapsed machine-learning-list-title\"><div class=\"sidebar-list-title\" style=\"border-top:1px solid #aaa; text-align:center;;color: var(--color-base)\"><div style=\"display: inline-block; line-height: 1.2em; padding: .1em 0;\"><a href=\"/wiki/Supervised_learning\" title=\"Supervised learning\">Supervised learning</a><br/><span class=\"nobold\"><span style=\"font-size: 85%;\">(<b><a href=\"/wiki/Statistical_classification\" title=\"Statistical classification\">classification</a></b> • <b><a href=\"/wiki/Regression_analysis\" title=\"Regression analysis\">regression</a></b>)</span></span> </div></div><div class=\"sidebar-list-content mw-collapsible-content hlist\">\n",
       "<ul><li><a href=\"/wiki/Apprenticeship_learning\" title=\"Apprenticeship learning\">Apprenticeship learning</a></li>\n",
       "<li><a href=\"/wiki/Decision_tree_learning\" title=\"Decision tree learning\">Decision trees</a></li>\n",
       "<li><a href=\"/wiki/Ensemble_learning\" title=\"Ensemble learning\">Ensembles</a>\n",
       "<ul><li><a href=\"/wiki/Bootstrap_aggregating\" title=\"Bootstrap aggregating\">Bagging</a></li>\n",
       "<li><a href=\"/wiki/Boosting_(machine_learning)\" title=\"Boosting (machine learning)\">Boosting</a></li>\n",
       "<li><a href=\"/wiki/Random_forest\" title=\"Random forest\">Random forest</a></li></ul></li>\n",
       "<li><a href=\"/wiki/K-nearest_neighbors_algorithm\" title=\"K-nearest neighbors algorithm\"><i>k</i>-NN</a></li>\n",
       "<li><a href=\"/wiki/Linear_regression\" title=\"Linear regression\">Linear regression</a></li>\n",
       "<li><a href=\"/wiki/Naive_Bayes_classifier\" title=\"Naive Bayes classifier\">Naive Bayes</a></li>\n",
       "<li><a class=\"mw-redirect\" href=\"/wiki/Artificial_neural_network\" title=\"Artificial neural network\">Artificial neural networks</a></li>\n",
       "<li><a href=\"/wiki/Logistic_regression\" title=\"Logistic regression\">Logistic regression</a></li>\n",
       "<li><a href=\"/wiki/Perceptron\" title=\"Perceptron\">Perceptron</a></li>\n",
       "<li><a href=\"/wiki/Relevance_vector_machine\" title=\"Relevance vector machine\">Relevance vector machine (RVM)</a></li>\n",
       "<li><a href=\"/wiki/Support_vector_machine\" title=\"Support vector machine\">Support vector machine (SVM)</a></li></ul></div></div></td>\n",
       "</tr><tr><td class=\"sidebar-content\">\n",
       "<div class=\"sidebar-list mw-collapsible mw-collapsed machine-learning-list-title\"><div class=\"sidebar-list-title\" style=\"border-top:1px solid #aaa; text-align:center;;color: var(--color-base)\"><a href=\"/wiki/Cluster_analysis\" title=\"Cluster analysis\">Clustering</a></div><div class=\"sidebar-list-content mw-collapsible-content hlist\">\n",
       "<ul><li><a href=\"/wiki/BIRCH\" title=\"BIRCH\">BIRCH</a></li>\n",
       "<li><a href=\"/wiki/CURE_algorithm\" title=\"CURE algorithm\">CURE</a></li>\n",
       "<li><a href=\"/wiki/Hierarchical_clustering\" title=\"Hierarchical clustering\">Hierarchical</a></li>\n",
       "<li><a href=\"/wiki/K-means_clustering\" title=\"K-means clustering\"><i>k</i>-means</a></li>\n",
       "<li><a href=\"/wiki/Fuzzy_clustering\" title=\"Fuzzy clustering\">Fuzzy</a></li>\n",
       "<li><a href=\"/wiki/Expectation%E2%80%93maximization_algorithm\" title=\"Expectation–maximization algorithm\">Expectation–maximization (EM)</a></li>\n",
       "<li><br/><a href=\"/wiki/DBSCAN\" title=\"DBSCAN\">DBSCAN</a></li>\n",
       "<li><a href=\"/wiki/OPTICS_algorithm\" title=\"OPTICS algorithm\">OPTICS</a></li>\n",
       "<li><a href=\"/wiki/Mean_shift\" title=\"Mean shift\">Mean shift</a></li></ul></div></div></td>\n",
       "</tr><tr><td class=\"sidebar-content\">\n",
       "<div class=\"sidebar-list mw-collapsible mw-collapsed machine-learning-list-title\"><div class=\"sidebar-list-title\" style=\"border-top:1px solid #aaa; text-align:center;;color: var(--color-base)\"><a href=\"/wiki/Dimensionality_reduction\" title=\"Dimensionality reduction\">Dimensionality reduction</a></div><div class=\"sidebar-list-content mw-collapsible-content hlist\">\n",
       "<ul><li><a href=\"/wiki/Factor_analysis\" title=\"Factor analysis\">Factor analysis</a></li>\n",
       "<li><a href=\"/wiki/Canonical_correlation\" title=\"Canonical correlation\">CCA</a></li>\n",
       "<li><a href=\"/wiki/Independent_component_analysis\" title=\"Independent component analysis\">ICA</a></li>\n",
       "<li><a href=\"/wiki/Linear_discriminant_analysis\" title=\"Linear discriminant analysis\">LDA</a></li>\n",
       "<li><a href=\"/wiki/Non-negative_matrix_factorization\" title=\"Non-negative matrix factorization\">NMF</a></li>\n",
       "<li><a href=\"/wiki/Principal_component_analysis\" title=\"Principal component analysis\">PCA</a></li>\n",
       "<li><a href=\"/wiki/Proper_generalized_decomposition\" title=\"Proper generalized decomposition\">PGD</a></li>\n",
       "<li><a href=\"/wiki/T-distributed_stochastic_neighbor_embedding\" title=\"T-distributed stochastic neighbor embedding\">t-SNE</a></li>\n",
       "<li><a href=\"/wiki/Sparse_dictionary_learning\" title=\"Sparse dictionary learning\">SDL</a></li></ul></div></div></td>\n",
       "</tr><tr><td class=\"sidebar-content\">\n",
       "<div class=\"sidebar-list mw-collapsible mw-collapsed machine-learning-list-title\"><div class=\"sidebar-list-title\" style=\"border-top:1px solid #aaa; text-align:center;;color: var(--color-base)\"><a href=\"/wiki/Structured_prediction\" title=\"Structured prediction\">Structured prediction</a></div><div class=\"sidebar-list-content mw-collapsible-content hlist\">\n",
       "<ul><li><a href=\"/wiki/Graphical_model\" title=\"Graphical model\">Graphical models</a>\n",
       "<ul><li><a href=\"/wiki/Bayesian_network\" title=\"Bayesian network\">Bayes net</a></li>\n",
       "<li><a href=\"/wiki/Conditional_random_field\" title=\"Conditional random field\">Conditional random field</a></li>\n",
       "<li><a href=\"/wiki/Hidden_Markov_model\" title=\"Hidden Markov model\">Hidden Markov</a></li></ul></li></ul></div></div></td>\n",
       "</tr><tr><td class=\"sidebar-content\">\n",
       "<div class=\"sidebar-list mw-collapsible mw-collapsed machine-learning-list-title\"><div class=\"sidebar-list-title\" style=\"border-top:1px solid #aaa; text-align:center;;color: var(--color-base)\"><a href=\"/wiki/Anomaly_detection\" title=\"Anomaly detection\">Anomaly detection</a></div><div class=\"sidebar-list-content mw-collapsible-content hlist\">\n",
       "<ul><li><a href=\"/wiki/Random_sample_consensus\" title=\"Random sample consensus\">RANSAC</a></li>\n",
       "<li><a href=\"/wiki/K-nearest_neighbors_algorithm\" title=\"K-nearest neighbors algorithm\"><i>k</i>-NN</a></li>\n",
       "<li><a href=\"/wiki/Local_outlier_factor\" title=\"Local outlier factor\">Local outlier factor</a></li>\n",
       "<li><a href=\"/wiki/Isolation_forest\" title=\"Isolation forest\">Isolation forest</a></li></ul></div></div></td>\n",
       "</tr><tr><td class=\"sidebar-content\">\n",
       "<div class=\"sidebar-list mw-collapsible mw-collapsed machine-learning-list-title\"><div class=\"sidebar-list-title\" style=\"border-top:1px solid #aaa; text-align:center;;color: var(--color-base)\"><a href=\"/wiki/Neural_network_(machine_learning)\" title=\"Neural network (machine learning)\">Neural networks</a></div><div class=\"sidebar-list-content mw-collapsible-content hlist\">\n",
       "<ul><li><a href=\"/wiki/Autoencoder\" title=\"Autoencoder\">Autoencoder</a></li>\n",
       "<li><a href=\"/wiki/Deep_learning\" title=\"Deep learning\">Deep learning</a></li>\n",
       "<li><a href=\"/wiki/Feedforward_neural_network\" title=\"Feedforward neural network\">Feedforward neural network</a></li>\n",
       "<li><a href=\"/wiki/Recurrent_neural_network\" title=\"Recurrent neural network\">Recurrent neural network</a>\n",
       "<ul><li><a href=\"/wiki/Long_short-term_memory\" title=\"Long short-term memory\">LSTM</a></li>\n",
       "<li><a href=\"/wiki/Gated_recurrent_unit\" title=\"Gated recurrent unit\">GRU</a></li>\n",
       "<li><a href=\"/wiki/Echo_state_network\" title=\"Echo state network\">ESN</a></li>\n",
       "<li><a href=\"/wiki/Reservoir_computing\" title=\"Reservoir computing\">reservoir computing</a></li></ul></li>\n",
       "<li><a href=\"/wiki/Boltzmann_machine\" title=\"Boltzmann machine\">Boltzmann machine</a>\n",
       "<ul><li><a href=\"/wiki/Restricted_Boltzmann_machine\" title=\"Restricted Boltzmann machine\">Restricted</a></li></ul></li>\n",
       "<li><a href=\"/wiki/Generative_adversarial_network\" title=\"Generative adversarial network\">GAN</a></li>\n",
       "<li><a href=\"/wiki/Diffusion_model\" title=\"Diffusion model\">Diffusion model</a></li>\n",
       "<li><a href=\"/wiki/Self-organizing_map\" title=\"Self-organizing map\">SOM</a></li>\n",
       "<li><a href=\"/wiki/Convolutional_neural_network\" title=\"Convolutional neural network\">Convolutional neural network</a>\n",
       "<ul><li><a href=\"/wiki/U-Net\" title=\"U-Net\">U-Net</a></li>\n",
       "<li><a href=\"/wiki/LeNet\" title=\"LeNet\">LeNet</a></li>\n",
       "<li><a href=\"/wiki/AlexNet\" title=\"AlexNet\">AlexNet</a></li>\n",
       "<li><a href=\"/wiki/DeepDream\" title=\"DeepDream\">DeepDream</a></li></ul></li>\n",
       "<li><a href=\"/wiki/Neural_field\" title=\"Neural field\">Neural field</a>\n",
       "<ul><li><a href=\"/wiki/Neural_radiance_field\" title=\"Neural radiance field\">Neural radiance field</a></li>\n",
       "<li><a href=\"/wiki/Physics-informed_neural_networks\" title=\"Physics-informed neural networks\">Physics-informed neural networks</a></li></ul></li>\n",
       "<li><a href=\"/wiki/Transformer_(deep_learning_architecture)\" title=\"Transformer (deep learning architecture)\">Transformer</a>\n",
       "<ul><li><a href=\"/wiki/Vision_transformer\" title=\"Vision transformer\">Vision</a></li></ul></li>\n",
       "<li><a href=\"/wiki/Mamba_(deep_learning_architecture)\" title=\"Mamba (deep learning architecture)\">Mamba</a></li>\n",
       "<li><a href=\"/wiki/Spiking_neural_network\" title=\"Spiking neural network\">Spiking neural network</a></li>\n",
       "<li><a href=\"/wiki/Memtransistor\" title=\"Memtransistor\">Memtransistor</a></li>\n",
       "<li><a href=\"/wiki/Electrochemical_RAM\" title=\"Electrochemical RAM\">Electrochemical RAM</a> (ECRAM)</li></ul></div></div></td>\n",
       "</tr><tr><td class=\"sidebar-content\">\n",
       "<div class=\"sidebar-list mw-collapsible mw-collapsed machine-learning-list-title\"><div class=\"sidebar-list-title\" style=\"border-top:1px solid #aaa; text-align:center;;color: var(--color-base)\"><a href=\"/wiki/Reinforcement_learning\" title=\"Reinforcement learning\">Reinforcement learning</a></div><div class=\"sidebar-list-content mw-collapsible-content hlist\">\n",
       "<ul><li><a href=\"/wiki/Q-learning\" title=\"Q-learning\">Q-learning</a></li>\n",
       "<li><a href=\"/wiki/Policy_gradient_method\" title=\"Policy gradient method\">Policy gradient</a></li>\n",
       "<li><a href=\"/wiki/State%E2%80%93action%E2%80%93reward%E2%80%93state%E2%80%93action\" title=\"State–action–reward–state–action\">SARSA</a></li>\n",
       "<li><a href=\"/wiki/Temporal_difference_learning\" title=\"Temporal difference learning\">Temporal difference (TD)</a></li>\n",
       "<li><a href=\"/wiki/Multi-agent_reinforcement_learning\" title=\"Multi-agent reinforcement learning\">Multi-agent</a>\n",
       "<ul><li><a class=\"mw-redirect\" href=\"/wiki/Self-play_(reinforcement_learning_technique)\" title=\"Self-play (reinforcement learning technique)\">Self-play</a></li></ul></li></ul></div></div></td>\n",
       "</tr><tr><td class=\"sidebar-content\">\n",
       "<div class=\"sidebar-list mw-collapsible mw-collapsed machine-learning-list-title\"><div class=\"sidebar-list-title\" style=\"border-top:1px solid #aaa; text-align:center;;color: var(--color-base)\">Learning with humans</div><div class=\"sidebar-list-content mw-collapsible-content hlist\">\n",
       "<ul><li><a href=\"/wiki/Active_learning_(machine_learning)\" title=\"Active learning (machine learning)\">Active learning</a></li>\n",
       "<li><a href=\"/wiki/Crowdsourcing\" title=\"Crowdsourcing\">Crowdsourcing</a></li>\n",
       "<li><a href=\"/wiki/Human-in-the-loop\" title=\"Human-in-the-loop\">Human-in-the-loop</a></li>\n",
       "<li><a href=\"/wiki/Mechanistic_interpretability\" title=\"Mechanistic interpretability\">Mechanistic interpretability</a></li>\n",
       "<li><a href=\"/wiki/Reinforcement_learning_from_human_feedback\" title=\"Reinforcement learning from human feedback\">RLHF</a></li></ul></div></div></td>\n",
       "</tr><tr><td class=\"sidebar-content\">\n",
       "<div class=\"sidebar-list mw-collapsible mw-collapsed machine-learning-list-title\"><div class=\"sidebar-list-title\" style=\"border-top:1px solid #aaa; text-align:center;;color: var(--color-base)\">Model diagnostics</div><div class=\"sidebar-list-content mw-collapsible-content hlist\">\n",
       "<ul><li><a href=\"/wiki/Coefficient_of_determination\" title=\"Coefficient of determination\">Coefficient of determination</a></li>\n",
       "<li><a href=\"/wiki/Confusion_matrix\" title=\"Confusion matrix\">Confusion matrix</a></li>\n",
       "<li><a href=\"/wiki/Learning_curve_(machine_learning)\" title=\"Learning curve (machine learning)\">Learning curve</a></li>\n",
       "<li><a href=\"/wiki/Receiver_operating_characteristic\" title=\"Receiver operating characteristic\">ROC curve</a></li></ul></div></div></td>\n",
       "</tr><tr><td class=\"sidebar-content\">\n",
       "<div class=\"sidebar-list mw-collapsible mw-collapsed machine-learning-list-title\"><div class=\"sidebar-list-title\" style=\"border-top:1px solid #aaa; text-align:center;;color: var(--color-base)\">Mathematical foundations</div><div class=\"sidebar-list-content mw-collapsible-content hlist\">\n",
       "<ul><li><a class=\"mw-redirect\" href=\"/wiki/Kernel_machines\" title=\"Kernel machines\">Kernel machines</a></li>\n",
       "<li><a href=\"/wiki/Bias%E2%80%93variance_tradeoff\" title=\"Bias–variance tradeoff\">Bias–variance tradeoff</a></li>\n",
       "<li><a href=\"/wiki/Computational_learning_theory\" title=\"Computational learning theory\">Computational learning theory</a></li>\n",
       "<li><a href=\"/wiki/Empirical_risk_minimization\" title=\"Empirical risk minimization\">Empirical risk minimization</a></li>\n",
       "<li><a href=\"/wiki/Occam_learning\" title=\"Occam learning\">Occam learning</a></li>\n",
       "<li><a href=\"/wiki/Probably_approximately_correct_learning\" title=\"Probably approximately correct learning\">PAC learning</a></li>\n",
       "<li><a href=\"/wiki/Statistical_learning_theory\" title=\"Statistical learning theory\">Statistical learning</a></li>\n",
       "<li><a href=\"/wiki/Vapnik%E2%80%93Chervonenkis_theory\" title=\"Vapnik–Chervonenkis theory\">VC theory</a></li>\n",
       "<li><a href=\"/wiki/Topological_deep_learning\" title=\"Topological deep learning\">Topological deep learning</a></li></ul></div></div></td>\n",
       "</tr><tr><td class=\"sidebar-content\">\n",
       "<div class=\"sidebar-list mw-collapsible mw-collapsed machine-learning-list-title\"><div class=\"sidebar-list-title\" style=\"border-top:1px solid #aaa; text-align:center;;color: var(--color-base)\">Journals and conferences</div><div class=\"sidebar-list-content mw-collapsible-content hlist\">\n",
       "<ul><li><a href=\"/wiki/AAAI_Conference_on_Artificial_Intelligence\" title=\"AAAI Conference on Artificial Intelligence\">AAAI</a></li>\n",
       "<li><a href=\"/wiki/ECML_PKDD\" title=\"ECML PKDD\">ECML PKDD</a></li>\n",
       "<li><a href=\"/wiki/Conference_on_Neural_Information_Processing_Systems\" title=\"Conference on Neural Information Processing Systems\">NeurIPS</a></li>\n",
       "<li><a href=\"/wiki/International_Conference_on_Machine_Learning\" title=\"International Conference on Machine Learning\">ICML</a></li>\n",
       "<li><a href=\"/wiki/International_Conference_on_Learning_Representations\" title=\"International Conference on Learning Representations\">ICLR</a></li>\n",
       "<li><a href=\"/wiki/International_Joint_Conference_on_Artificial_Intelligence\" title=\"International Joint Conference on Artificial Intelligence\">IJCAI</a></li>\n",
       "<li><a href=\"/wiki/Machine_Learning_(journal)\" title=\"Machine Learning (journal)\">ML</a></li>\n",
       "<li><a href=\"/wiki/Journal_of_Machine_Learning_Research\" title=\"Journal of Machine Learning Research\">JMLR</a></li></ul></div></div></td>\n",
       "</tr><tr><td class=\"sidebar-content\">\n",
       "<div class=\"sidebar-list mw-collapsible mw-collapsed machine-learning-list-title\"><div class=\"sidebar-list-title\" style=\"border-top:1px solid #aaa; text-align:center;;color: var(--color-base)\">Related articles</div><div class=\"sidebar-list-content mw-collapsible-content hlist\">\n",
       "<ul><li><a href=\"/wiki/Glossary_of_artificial_intelligence\" title=\"Glossary of artificial intelligence\">Glossary of artificial intelligence</a></li>\n",
       "<li><a href=\"/wiki/List_of_datasets_for_machine-learning_research\" title=\"List of datasets for machine-learning research\">List of datasets for machine-learning research</a>\n",
       "<ul><li><a href=\"/wiki/List_of_datasets_in_computer_vision_and_image_processing\" title=\"List of datasets in computer vision and image processing\">List of datasets in computer vision and image processing</a></li></ul></li>\n",
       "<li><a href=\"/wiki/Outline_of_machine_learning\" title=\"Outline of machine learning\">Outline of machine learning</a></li></ul></div></div></td>\n",
       "</tr><tr><td class=\"sidebar-navbar\"><link href=\"mw-data:TemplateStyles:r1129693374\" rel=\"mw-deduplicated-inline-style\"/><style data-mw-deduplicate=\"TemplateStyles:r1239400231\">.mw-parser-output .navbar{display:inline;font-size:88%;font-weight:normal}.mw-parser-output .navbar-collapse{float:left;text-align:left}.mw-parser-output .navbar-boxtext{word-spacing:0}.mw-parser-output .navbar ul{display:inline-block;white-space:nowrap;line-height:inherit}.mw-parser-output .navbar-brackets::before{margin-right:-0.125em;content:\"[ \"}.mw-parser-output .navbar-brackets::after{margin-left:-0.125em;content:\" ]\"}.mw-parser-output .navbar li{word-spacing:-0.125em}.mw-parser-output .navbar a>span,.mw-parser-output .navbar a>abbr{text-decoration:inherit}.mw-parser-output .navbar-mini abbr{font-variant:small-caps;border-bottom:none;text-decoration:none;cursor:inherit}.mw-parser-output .navbar-ct-full{font-size:114%;margin:0 7em}.mw-parser-output .navbar-ct-mini{font-size:114%;margin:0 4em}html.skin-theme-clientpref-night .mw-parser-output .navbar li a abbr{color:var(--color-base)!important}@media(prefers-color-scheme:dark){html.skin-theme-clientpref-os .mw-parser-output .navbar li a abbr{color:var(--color-base)!important}}@media print{.mw-parser-output .navbar{display:none!important}}</style><div class=\"navbar plainlinks hlist navbar-mini\"><ul><li class=\"nv-view\"><a href=\"/wiki/Template:Machine_learning\" title=\"Template:Machine learning\"><abbr title=\"View this template\">v</abbr></a></li><li class=\"nv-talk\"><a href=\"/wiki/Template_talk:Machine_learning\" title=\"Template talk:Machine learning\"><abbr title=\"Discuss this template\">t</abbr></a></li><li class=\"nv-edit\"><a href=\"/wiki/Special:EditPage/Template:Machine_learning\" title=\"Special:EditPage/Template:Machine learning\"><abbr title=\"Edit this template\">e</abbr></a></li></ul></div></td></tr></tbody></table>"
      ],
      "text/plain": [
       "<IPython.core.display.HTML object>"
      ]
     },
     "metadata": {},
     "output_type": "display_data"
    }
   ],
   "source": [
    "table = soup.find('table', class_='sidebar sidebar-collapse nomobile nowraplinks')\n",
    "\n",
    "display(HTML(str(table)))"
   ]
  },
  {
   "cell_type": "markdown",
   "id": "a3ecc36b",
   "metadata": {},
   "source": [
    "## Test table"
   ]
  },
  {
   "cell_type": "code",
   "execution_count": 39,
   "id": "927a7f9d",
   "metadata": {},
   "outputs": [
    {
     "data": {
      "text/plain": [
       "[<div class=\"sidebar-list-title\" style=\"border-top:1px solid #aaa; text-align:center;;color: var(--color-base)\">Paradigms</div>,\n",
       " <div class=\"sidebar-list-title\" style=\"border-top:1px solid #aaa; text-align:center;;color: var(--color-base)\">Problems</div>,\n",
       " <div class=\"sidebar-list-title\" style=\"border-top:1px solid #aaa; text-align:center;;color: var(--color-base)\"><div style=\"display: inline-block; line-height: 1.2em; padding: .1em 0;\"><a href=\"/wiki/Supervised_learning\" title=\"Supervised learning\">Supervised learning</a><br/><span class=\"nobold\"><span style=\"font-size: 85%;\">(<b><a href=\"/wiki/Statistical_classification\" title=\"Statistical classification\">classification</a></b> • <b><a href=\"/wiki/Regression_analysis\" title=\"Regression analysis\">regression</a></b>)</span></span> </div></div>,\n",
       " <div class=\"sidebar-list-title\" style=\"border-top:1px solid #aaa; text-align:center;;color: var(--color-base)\"><a href=\"/wiki/Cluster_analysis\" title=\"Cluster analysis\">Clustering</a></div>,\n",
       " <div class=\"sidebar-list-title\" style=\"border-top:1px solid #aaa; text-align:center;;color: var(--color-base)\"><a href=\"/wiki/Dimensionality_reduction\" title=\"Dimensionality reduction\">Dimensionality reduction</a></div>,\n",
       " <div class=\"sidebar-list-title\" style=\"border-top:1px solid #aaa; text-align:center;;color: var(--color-base)\"><a href=\"/wiki/Structured_prediction\" title=\"Structured prediction\">Structured prediction</a></div>,\n",
       " <div class=\"sidebar-list-title\" style=\"border-top:1px solid #aaa; text-align:center;;color: var(--color-base)\"><a href=\"/wiki/Anomaly_detection\" title=\"Anomaly detection\">Anomaly detection</a></div>,\n",
       " <div class=\"sidebar-list-title\" style=\"border-top:1px solid #aaa; text-align:center;;color: var(--color-base)\"><a href=\"/wiki/Neural_network_(machine_learning)\" title=\"Neural network (machine learning)\">Neural networks</a></div>,\n",
       " <div class=\"sidebar-list-title\" style=\"border-top:1px solid #aaa; text-align:center;;color: var(--color-base)\"><a href=\"/wiki/Reinforcement_learning\" title=\"Reinforcement learning\">Reinforcement learning</a></div>,\n",
       " <div class=\"sidebar-list-title\" style=\"border-top:1px solid #aaa; text-align:center;;color: var(--color-base)\">Learning with humans</div>,\n",
       " <div class=\"sidebar-list-title\" style=\"border-top:1px solid #aaa; text-align:center;;color: var(--color-base)\">Model diagnostics</div>,\n",
       " <div class=\"sidebar-list-title\" style=\"border-top:1px solid #aaa; text-align:center;;color: var(--color-base)\">Mathematical foundations</div>,\n",
       " <div class=\"sidebar-list-title\" style=\"border-top:1px solid #aaa; text-align:center;;color: var(--color-base)\">Journals and conferences</div>,\n",
       " <div class=\"sidebar-list-title\" style=\"border-top:1px solid #aaa; text-align:center;;color: var(--color-base)\">Related articles</div>]"
      ]
     },
     "execution_count": 39,
     "metadata": {},
     "output_type": "execute_result"
    }
   ],
   "source": [
    "sections = table.find_all('div', class_='sidebar-list-title')\n",
    "sections"
   ]
  },
  {
   "cell_type": "code",
   "execution_count": 40,
   "id": "072baf58",
   "metadata": {},
   "outputs": [
    {
     "name": "stdout",
     "output_type": "stream",
     "text": [
      "\n",
      "Sección: Paradigms\n",
      "\n",
      "Sección: Problems\n",
      "\n",
      "Sección: Supervised learning(classification•regression)\n",
      "\n",
      "Sección: Clustering\n",
      "\n",
      "Sección: Dimensionality reduction\n",
      "\n",
      "Sección: Structured prediction\n",
      "\n",
      "Sección: Anomaly detection\n",
      "\n",
      "Sección: Neural networks\n",
      "\n",
      "Sección: Reinforcement learning\n",
      "\n",
      "Sección: Learning with humans\n",
      "\n",
      "Sección: Model diagnostics\n",
      "\n",
      "Sección: Mathematical foundations\n",
      "\n",
      "Sección: Journals and conferences\n",
      "\n",
      "Sección: Related articles\n"
     ]
    }
   ],
   "source": [
    "for section in sections:\n",
    "        section_title = section.get_text(strip=True)\n",
    "        print(f\"\\nSección: {section_title}\")"
   ]
  },
  {
   "cell_type": "code",
   "execution_count": 50,
   "id": "96f320f5",
   "metadata": {},
   "outputs": [
    {
     "data": {
      "text/plain": [
       "<div class=\"sidebar-list-title\" style=\"border-top:1px solid #aaa; text-align:center;;color: var(--color-base)\">Paradigms</div>"
      ]
     },
     "execution_count": 50,
     "metadata": {},
     "output_type": "execute_result"
    }
   ],
   "source": [
    "sections = table.find_all('div', class_='sidebar-list-title')\n",
    "sections_test = sections[0]\n",
    "sections_test"
   ]
  },
  {
   "cell_type": "code",
   "execution_count": 53,
   "id": "1236cd05",
   "metadata": {},
   "outputs": [
    {
     "data": {
      "text/plain": [
       "'Paradigms'"
      ]
     },
     "execution_count": 53,
     "metadata": {},
     "output_type": "execute_result"
    }
   ],
   "source": [
    "section_title = sections_test.get_text(strip=True)\n",
    "section_title"
   ]
  },
  {
   "cell_type": "code",
   "execution_count": 62,
   "id": "fc0e77d3",
   "metadata": {},
   "outputs": [
    {
     "data": {
      "text/plain": [
       "<div class=\"sidebar-list-content mw-collapsible-content hlist\">\n",
       "<ul><li><a href=\"/wiki/Supervised_learning\" title=\"Supervised learning\">Supervised learning</a></li>\n",
       "<li><a href=\"/wiki/Unsupervised_learning\" title=\"Unsupervised learning\">Unsupervised learning</a></li>\n",
       "<li><a class=\"mw-redirect\" href=\"/wiki/Semi-supervised_learning\" title=\"Semi-supervised learning\">Semi-supervised learning</a></li>\n",
       "<li><a href=\"/wiki/Self-supervised_learning\" title=\"Self-supervised learning\">Self-supervised learning</a></li>\n",
       "<li><a href=\"/wiki/Reinforcement_learning\" title=\"Reinforcement learning\">Reinforcement learning</a></li>\n",
       "<li><a href=\"/wiki/Meta-learning_(computer_science)\" title=\"Meta-learning (computer science)\">Meta-learning</a></li>\n",
       "<li><a href=\"/wiki/Online_machine_learning\" title=\"Online machine learning\">Online learning</a></li>\n",
       "<li><a class=\"mw-redirect\" href=\"/wiki/Batch_learning\" title=\"Batch learning\">Batch learning</a></li>\n",
       "<li><a href=\"/wiki/Curriculum_learning\" title=\"Curriculum learning\">Curriculum learning</a></li>\n",
       "<li><a href=\"/wiki/Rule-based_machine_learning\" title=\"Rule-based machine learning\">Rule-based learning</a></li>\n",
       "<li><a href=\"/wiki/Neuro-symbolic_AI\" title=\"Neuro-symbolic AI\">Neuro-symbolic AI</a></li>\n",
       "<li><a class=\"mw-redirect\" href=\"/wiki/Neuromorphic_engineering\" title=\"Neuromorphic engineering\">Neuromorphic engineering</a></li>\n",
       "<li><a href=\"/wiki/Quantum_machine_learning\" title=\"Quantum machine learning\">Quantum machine learning</a></li></ul></div>"
      ]
     },
     "execution_count": 62,
     "metadata": {},
     "output_type": "execute_result"
    }
   ],
   "source": [
    "content_div_test = sections_test.find_next_sibling('div', class_='sidebar-list-content')\n",
    "content_div_test"
   ]
  },
  {
   "cell_type": "code",
   "execution_count": 64,
   "id": "19214c78",
   "metadata": {},
   "outputs": [
    {
     "data": {
      "text/plain": [
       "<a href=\"/wiki/Supervised_learning\" title=\"Supervised learning\">Supervised learning</a>"
      ]
     },
     "execution_count": 64,
     "metadata": {},
     "output_type": "execute_result"
    }
   ],
   "source": [
    "links_test = content_div_test.find_all('a') # donde \"a\" es el tag de los \n",
    "link_test = links_test[0]\n",
    "link_test"
   ]
  },
  {
   "cell_type": "code",
   "execution_count": 66,
   "id": "cee871f0",
   "metadata": {},
   "outputs": [
    {
     "name": "stdout",
     "output_type": "stream",
     "text": [
      "Supervised learning\n",
      "/wiki/Supervised_learning\n"
     ]
    }
   ],
   "source": [
    "print(link_test.get_text(strip=True))\n",
    "print(link_test.get('href', ''))"
   ]
  },
  {
   "cell_type": "markdown",
   "id": "56fd807a",
   "metadata": {},
   "source": [
    "# My own board"
   ]
  },
  {
   "cell_type": "code",
   "execution_count": 74,
   "id": "c521614c",
   "metadata": {},
   "outputs": [
    {
     "name": "stdout",
     "output_type": "stream",
     "text": [
      "Tabla encontrada!\n",
      "\n",
      "Sección: Paradigms\n",
      "  - Supervised learning\n",
      "  - Unsupervised learning\n",
      "  - Semi-supervised learning\n",
      "  - Self-supervised learning\n",
      "  - Reinforcement learning\n",
      "  - Meta-learning\n",
      "  - Online learning\n",
      "  - Batch learning\n",
      "  - Curriculum learning\n",
      "  - Rule-based learning\n",
      "  - Neuro-symbolic AI\n",
      "  - Neuromorphic engineering\n",
      "  - Quantum machine learning\n",
      "\n",
      "Sección: Problems\n",
      "  - Classification\n",
      "  - Generative modeling\n",
      "  - Regression\n",
      "  - Clustering\n",
      "  - Dimensionality reduction\n",
      "  - Density estimation\n",
      "  - Anomaly detection\n",
      "  - Data cleaning\n",
      "  - AutoML\n",
      "  - Association rules\n",
      "  - Semantic analysis\n",
      "  - Structured prediction\n",
      "  - Feature engineering\n",
      "  - Feature learning\n",
      "  - Learning to rank\n",
      "  - Grammar induction\n",
      "  - Ontology learning\n",
      "  - Multimodal learning\n",
      "\n",
      "Sección: Supervised learning(classification•regression)\n",
      "  - Apprenticeship learning\n",
      "  - Decision trees\n",
      "  - Ensembles\n",
      "  - Bagging\n",
      "  - Boosting\n",
      "  - Random forest\n",
      "  - k-NN\n",
      "  - Linear regression\n",
      "  - Naive Bayes\n",
      "  - Artificial neural networks\n",
      "  - Logistic regression\n",
      "  - Perceptron\n",
      "  - Relevance vector machine (RVM)\n",
      "  - Support vector machine (SVM)\n",
      "\n",
      "Sección: Clustering\n",
      "  - BIRCH\n",
      "  - CURE\n",
      "  - Hierarchical\n",
      "  - k-means\n",
      "  - Fuzzy\n",
      "  - Expectation–maximization (EM)\n",
      "  - DBSCAN\n",
      "  - OPTICS\n",
      "  - Mean shift\n",
      "\n",
      "Sección: Dimensionality reduction\n",
      "  - Factor analysis\n",
      "  - CCA\n",
      "  - ICA\n",
      "  - LDA\n",
      "  - NMF\n",
      "  - PCA\n",
      "  - PGD\n",
      "  - t-SNE\n",
      "  - SDL\n",
      "\n",
      "Sección: Structured prediction\n",
      "  - Graphical models\n",
      "  - Bayes net\n",
      "  - Conditional random field\n",
      "  - Hidden Markov\n",
      "\n",
      "Sección: Anomaly detection\n",
      "  - RANSAC\n",
      "  - k-NN\n",
      "  - Local outlier factor\n",
      "  - Isolation forest\n",
      "\n",
      "Sección: Neural networks\n",
      "  - Autoencoder\n",
      "  - Deep learning\n",
      "  - Feedforward neural network\n",
      "  - Recurrent neural network\n",
      "  - LSTM\n",
      "  - GRU\n",
      "  - ESN\n",
      "  - reservoir computing\n",
      "  - Boltzmann machine\n",
      "  - Restricted\n",
      "  - GAN\n",
      "  - Diffusion model\n",
      "  - SOM\n",
      "  - Convolutional neural network\n",
      "  - U-Net\n",
      "  - LeNet\n",
      "  - AlexNet\n",
      "  - DeepDream\n",
      "  - Neural field\n",
      "  - Neural radiance field\n",
      "  - Physics-informed neural networks\n",
      "  - Transformer\n",
      "  - Vision\n",
      "  - Mamba\n",
      "  - Spiking neural network\n",
      "  - Memtransistor\n",
      "  - Electrochemical RAM\n",
      "\n",
      "Sección: Reinforcement learning\n",
      "  - Q-learning\n",
      "  - Policy gradient\n",
      "  - SARSA\n",
      "  - Temporal difference (TD)\n",
      "  - Multi-agent\n",
      "  - Self-play\n",
      "\n",
      "Sección: Learning with humans\n",
      "  - Active learning\n",
      "  - Crowdsourcing\n",
      "  - Human-in-the-loop\n",
      "  - Mechanistic interpretability\n",
      "  - RLHF\n",
      "\n",
      "Sección: Model diagnostics\n",
      "  - Coefficient of determination\n",
      "  - Confusion matrix\n",
      "  - Learning curve\n",
      "  - ROC curve\n",
      "\n",
      "Sección: Mathematical foundations\n",
      "  - Kernel machines\n",
      "  - Bias–variance tradeoff\n",
      "  - Computational learning theory\n",
      "  - Empirical risk minimization\n",
      "  - Occam learning\n",
      "  - PAC learning\n",
      "  - Statistical learning\n",
      "  - VC theory\n",
      "  - Topological deep learning\n",
      "\n",
      "Sección: Journals and conferences\n",
      "  - AAAI\n",
      "  - ECML PKDD\n",
      "  - NeurIPS\n",
      "  - ICML\n",
      "  - ICLR\n",
      "  - IJCAI\n",
      "  - ML\n",
      "  - JMLR\n",
      "\n",
      "Sección: Related articles\n",
      "  - Glossary of artificial intelligence\n",
      "  - List of datasets for machine-learning research\n",
      "  - List of datasets in computer vision and image processing\n",
      "  - Outline of machine learning\n"
     ]
    }
   ],
   "source": [
    "# Find the table containing the Machine Learning sidebar data\n",
    "table = soup.find('table', class_='sidebar sidebar-collapse nomobile nowraplinks')\n",
    "\n",
    "if table:\n",
    "    print(\"Tabla encontrada!\")\n",
    "    \n",
    "    # Extract all links and their text from the sidebar\n",
    "    data = []\n",
    "    \n",
    "    # Find all sections in the sidebar\n",
    "    sections = table.find_all('div', class_='sidebar-list-title')\n",
    "    \n",
    "    for section in sections:\n",
    "        section_title = section.get_text(strip=True)\n",
    "        print(f\"\\nSección: {section_title}\")\n",
    "        \n",
    "        # Find the content associated with this section\n",
    "        content_div = section.find_next_sibling('div', class_='sidebar-list-content')\n",
    "        \n",
    "        if content_div:\n",
    "            # Find all links in this section\n",
    "            links = content_div.find_all('a')\n",
    "            \n",
    "            for link in links:\n",
    "                link_text = link.get_text(strip=True)\n",
    "                link_url = link.get('href', '')\n",
    "                \n",
    "                # Add to our data structure\n",
    "                data.append({\n",
    "                    'Sección': section_title,\n",
    "                    'Término': link_text,\n",
    "                    'URL': f\"https://en.wikipedia.org{link_url}\" if link_url.startswith('/wiki/') else link_url\n",
    "                })\n",
    "                \n",
    "                print(f\"  - {link_text}\")\n",
    "    \n",
    "    # Convert to DataFrame\n",
    "    df = pd.DataFrame(data)\n",
    "    \n"
   ]
  },
  {
   "cell_type": "code",
   "execution_count": 68,
   "id": "10e78b60",
   "metadata": {},
   "outputs": [
    {
     "data": {
      "application/vnd.microsoft.datawrangler.viewer.v0+json": {
       "columns": [
        {
         "name": "index",
         "rawType": "int64",
         "type": "integer"
        },
        {
         "name": "Sección",
         "rawType": "object",
         "type": "string"
        },
        {
         "name": "Término",
         "rawType": "object",
         "type": "string"
        },
        {
         "name": "URL",
         "rawType": "object",
         "type": "string"
        }
       ],
       "ref": "f10a5909-9aba-4f2f-94e5-10224a164978",
       "rows": [
        [
         "0",
         "Paradigms",
         "Supervised learning",
         "https://en.wikipedia.org/wiki/Supervised_learning"
        ],
        [
         "1",
         "Paradigms",
         "Unsupervised learning",
         "https://en.wikipedia.org/wiki/Unsupervised_learning"
        ],
        [
         "2",
         "Paradigms",
         "Semi-supervised learning",
         "https://en.wikipedia.org/wiki/Semi-supervised_learning"
        ],
        [
         "3",
         "Paradigms",
         "Self-supervised learning",
         "https://en.wikipedia.org/wiki/Self-supervised_learning"
        ],
        [
         "4",
         "Paradigms",
         "Reinforcement learning",
         "https://en.wikipedia.org/wiki/Reinforcement_learning"
        ],
        [
         "5",
         "Paradigms",
         "Meta-learning",
         "https://en.wikipedia.org/wiki/Meta-learning_(computer_science)"
        ],
        [
         "6",
         "Paradigms",
         "Online learning",
         "https://en.wikipedia.org/wiki/Online_machine_learning"
        ],
        [
         "7",
         "Paradigms",
         "Batch learning",
         "https://en.wikipedia.org/wiki/Batch_learning"
        ],
        [
         "8",
         "Paradigms",
         "Curriculum learning",
         "https://en.wikipedia.org/wiki/Curriculum_learning"
        ],
        [
         "9",
         "Paradigms",
         "Rule-based learning",
         "https://en.wikipedia.org/wiki/Rule-based_machine_learning"
        ],
        [
         "10",
         "Paradigms",
         "Neuro-symbolic AI",
         "https://en.wikipedia.org/wiki/Neuro-symbolic_AI"
        ],
        [
         "11",
         "Paradigms",
         "Neuromorphic engineering",
         "https://en.wikipedia.org/wiki/Neuromorphic_engineering"
        ],
        [
         "12",
         "Paradigms",
         "Quantum machine learning",
         "https://en.wikipedia.org/wiki/Quantum_machine_learning"
        ],
        [
         "13",
         "Problems",
         "Classification",
         "https://en.wikipedia.org/wiki/Statistical_classification"
        ],
        [
         "14",
         "Problems",
         "Generative modeling",
         "https://en.wikipedia.org/wiki/Generative_model"
        ],
        [
         "15",
         "Problems",
         "Regression",
         "https://en.wikipedia.org/wiki/Regression_analysis"
        ],
        [
         "16",
         "Problems",
         "Clustering",
         "https://en.wikipedia.org/wiki/Cluster_analysis"
        ],
        [
         "17",
         "Problems",
         "Dimensionality reduction",
         "https://en.wikipedia.org/wiki/Dimensionality_reduction"
        ],
        [
         "18",
         "Problems",
         "Density estimation",
         "https://en.wikipedia.org/wiki/Density_estimation"
        ],
        [
         "19",
         "Problems",
         "Anomaly detection",
         "https://en.wikipedia.org/wiki/Anomaly_detection"
        ],
        [
         "20",
         "Problems",
         "Data cleaning",
         "https://en.wikipedia.org/wiki/Data_cleaning"
        ],
        [
         "21",
         "Problems",
         "AutoML",
         "https://en.wikipedia.org/wiki/Automated_machine_learning"
        ],
        [
         "22",
         "Problems",
         "Association rules",
         "https://en.wikipedia.org/wiki/Association_rule_learning"
        ],
        [
         "23",
         "Problems",
         "Semantic analysis",
         "https://en.wikipedia.org/wiki/Semantic_analysis_(machine_learning)"
        ],
        [
         "24",
         "Problems",
         "Structured prediction",
         "https://en.wikipedia.org/wiki/Structured_prediction"
        ],
        [
         "25",
         "Problems",
         "Feature engineering",
         "https://en.wikipedia.org/wiki/Feature_engineering"
        ],
        [
         "26",
         "Problems",
         "Feature learning",
         "https://en.wikipedia.org/wiki/Feature_learning"
        ],
        [
         "27",
         "Problems",
         "Learning to rank",
         "https://en.wikipedia.org/wiki/Learning_to_rank"
        ],
        [
         "28",
         "Problems",
         "Grammar induction",
         "https://en.wikipedia.org/wiki/Grammar_induction"
        ],
        [
         "29",
         "Problems",
         "Ontology learning",
         "https://en.wikipedia.org/wiki/Ontology_learning"
        ],
        [
         "30",
         "Problems",
         "Multimodal learning",
         "https://en.wikipedia.org/wiki/Multimodal_learning"
        ],
        [
         "31",
         "Supervised learning(classification•regression)",
         "Apprenticeship learning",
         "https://en.wikipedia.org/wiki/Apprenticeship_learning"
        ],
        [
         "32",
         "Supervised learning(classification•regression)",
         "Decision trees",
         "https://en.wikipedia.org/wiki/Decision_tree_learning"
        ],
        [
         "33",
         "Supervised learning(classification•regression)",
         "Ensembles",
         "https://en.wikipedia.org/wiki/Ensemble_learning"
        ],
        [
         "34",
         "Supervised learning(classification•regression)",
         "Bagging",
         "https://en.wikipedia.org/wiki/Bootstrap_aggregating"
        ],
        [
         "35",
         "Supervised learning(classification•regression)",
         "Boosting",
         "https://en.wikipedia.org/wiki/Boosting_(machine_learning)"
        ],
        [
         "36",
         "Supervised learning(classification•regression)",
         "Random forest",
         "https://en.wikipedia.org/wiki/Random_forest"
        ],
        [
         "37",
         "Supervised learning(classification•regression)",
         "k-NN",
         "https://en.wikipedia.org/wiki/K-nearest_neighbors_algorithm"
        ],
        [
         "38",
         "Supervised learning(classification•regression)",
         "Linear regression",
         "https://en.wikipedia.org/wiki/Linear_regression"
        ],
        [
         "39",
         "Supervised learning(classification•regression)",
         "Naive Bayes",
         "https://en.wikipedia.org/wiki/Naive_Bayes_classifier"
        ],
        [
         "40",
         "Supervised learning(classification•regression)",
         "Artificial neural networks",
         "https://en.wikipedia.org/wiki/Artificial_neural_network"
        ],
        [
         "41",
         "Supervised learning(classification•regression)",
         "Logistic regression",
         "https://en.wikipedia.org/wiki/Logistic_regression"
        ],
        [
         "42",
         "Supervised learning(classification•regression)",
         "Perceptron",
         "https://en.wikipedia.org/wiki/Perceptron"
        ],
        [
         "43",
         "Supervised learning(classification•regression)",
         "Relevance vector machine (RVM)",
         "https://en.wikipedia.org/wiki/Relevance_vector_machine"
        ],
        [
         "44",
         "Supervised learning(classification•regression)",
         "Support vector machine (SVM)",
         "https://en.wikipedia.org/wiki/Support_vector_machine"
        ],
        [
         "45",
         "Clustering",
         "BIRCH",
         "https://en.wikipedia.org/wiki/BIRCH"
        ],
        [
         "46",
         "Clustering",
         "CURE",
         "https://en.wikipedia.org/wiki/CURE_algorithm"
        ],
        [
         "47",
         "Clustering",
         "Hierarchical",
         "https://en.wikipedia.org/wiki/Hierarchical_clustering"
        ],
        [
         "48",
         "Clustering",
         "k-means",
         "https://en.wikipedia.org/wiki/K-means_clustering"
        ],
        [
         "49",
         "Clustering",
         "Fuzzy",
         "https://en.wikipedia.org/wiki/Fuzzy_clustering"
        ]
       ],
       "shape": {
        "columns": 3,
        "rows": 134
       }
      },
      "text/html": [
       "<div>\n",
       "<style scoped>\n",
       "    .dataframe tbody tr th:only-of-type {\n",
       "        vertical-align: middle;\n",
       "    }\n",
       "\n",
       "    .dataframe tbody tr th {\n",
       "        vertical-align: top;\n",
       "    }\n",
       "\n",
       "    .dataframe thead th {\n",
       "        text-align: right;\n",
       "    }\n",
       "</style>\n",
       "<table border=\"1\" class=\"dataframe\">\n",
       "  <thead>\n",
       "    <tr style=\"text-align: right;\">\n",
       "      <th></th>\n",
       "      <th>Sección</th>\n",
       "      <th>Término</th>\n",
       "      <th>URL</th>\n",
       "    </tr>\n",
       "  </thead>\n",
       "  <tbody>\n",
       "    <tr>\n",
       "      <th>0</th>\n",
       "      <td>Paradigms</td>\n",
       "      <td>Supervised learning</td>\n",
       "      <td>https://en.wikipedia.org/wiki/Supervised_learning</td>\n",
       "    </tr>\n",
       "    <tr>\n",
       "      <th>1</th>\n",
       "      <td>Paradigms</td>\n",
       "      <td>Unsupervised learning</td>\n",
       "      <td>https://en.wikipedia.org/wiki/Unsupervised_lea...</td>\n",
       "    </tr>\n",
       "    <tr>\n",
       "      <th>2</th>\n",
       "      <td>Paradigms</td>\n",
       "      <td>Semi-supervised learning</td>\n",
       "      <td>https://en.wikipedia.org/wiki/Semi-supervised_...</td>\n",
       "    </tr>\n",
       "    <tr>\n",
       "      <th>3</th>\n",
       "      <td>Paradigms</td>\n",
       "      <td>Self-supervised learning</td>\n",
       "      <td>https://en.wikipedia.org/wiki/Self-supervised_...</td>\n",
       "    </tr>\n",
       "    <tr>\n",
       "      <th>4</th>\n",
       "      <td>Paradigms</td>\n",
       "      <td>Reinforcement learning</td>\n",
       "      <td>https://en.wikipedia.org/wiki/Reinforcement_le...</td>\n",
       "    </tr>\n",
       "    <tr>\n",
       "      <th>...</th>\n",
       "      <td>...</td>\n",
       "      <td>...</td>\n",
       "      <td>...</td>\n",
       "    </tr>\n",
       "    <tr>\n",
       "      <th>129</th>\n",
       "      <td>Journals and conferences</td>\n",
       "      <td>JMLR</td>\n",
       "      <td>https://en.wikipedia.org/wiki/Journal_of_Machi...</td>\n",
       "    </tr>\n",
       "    <tr>\n",
       "      <th>130</th>\n",
       "      <td>Related articles</td>\n",
       "      <td>Glossary of artificial intelligence</td>\n",
       "      <td>https://en.wikipedia.org/wiki/Glossary_of_arti...</td>\n",
       "    </tr>\n",
       "    <tr>\n",
       "      <th>131</th>\n",
       "      <td>Related articles</td>\n",
       "      <td>List of datasets for machine-learning research</td>\n",
       "      <td>https://en.wikipedia.org/wiki/List_of_datasets...</td>\n",
       "    </tr>\n",
       "    <tr>\n",
       "      <th>132</th>\n",
       "      <td>Related articles</td>\n",
       "      <td>List of datasets in computer vision and image ...</td>\n",
       "      <td>https://en.wikipedia.org/wiki/List_of_datasets...</td>\n",
       "    </tr>\n",
       "    <tr>\n",
       "      <th>133</th>\n",
       "      <td>Related articles</td>\n",
       "      <td>Outline of machine learning</td>\n",
       "      <td>https://en.wikipedia.org/wiki/Outline_of_machi...</td>\n",
       "    </tr>\n",
       "  </tbody>\n",
       "</table>\n",
       "<p>134 rows × 3 columns</p>\n",
       "</div>"
      ],
      "text/plain": [
       "                      Sección  \\\n",
       "0                   Paradigms   \n",
       "1                   Paradigms   \n",
       "2                   Paradigms   \n",
       "3                   Paradigms   \n",
       "4                   Paradigms   \n",
       "..                        ...   \n",
       "129  Journals and conferences   \n",
       "130          Related articles   \n",
       "131          Related articles   \n",
       "132          Related articles   \n",
       "133          Related articles   \n",
       "\n",
       "                                               Término  \\\n",
       "0                                  Supervised learning   \n",
       "1                                Unsupervised learning   \n",
       "2                             Semi-supervised learning   \n",
       "3                             Self-supervised learning   \n",
       "4                               Reinforcement learning   \n",
       "..                                                 ...   \n",
       "129                                               JMLR   \n",
       "130                Glossary of artificial intelligence   \n",
       "131     List of datasets for machine-learning research   \n",
       "132  List of datasets in computer vision and image ...   \n",
       "133                        Outline of machine learning   \n",
       "\n",
       "                                                   URL  \n",
       "0    https://en.wikipedia.org/wiki/Supervised_learning  \n",
       "1    https://en.wikipedia.org/wiki/Unsupervised_lea...  \n",
       "2    https://en.wikipedia.org/wiki/Semi-supervised_...  \n",
       "3    https://en.wikipedia.org/wiki/Self-supervised_...  \n",
       "4    https://en.wikipedia.org/wiki/Reinforcement_le...  \n",
       "..                                                 ...  \n",
       "129  https://en.wikipedia.org/wiki/Journal_of_Machi...  \n",
       "130  https://en.wikipedia.org/wiki/Glossary_of_arti...  \n",
       "131  https://en.wikipedia.org/wiki/List_of_datasets...  \n",
       "132  https://en.wikipedia.org/wiki/List_of_datasets...  \n",
       "133  https://en.wikipedia.org/wiki/Outline_of_machi...  \n",
       "\n",
       "[134 rows x 3 columns]"
      ]
     },
     "execution_count": 68,
     "metadata": {},
     "output_type": "execute_result"
    }
   ],
   "source": [
    "df"
   ]
  },
  {
   "cell_type": "markdown",
   "id": "52780670",
   "metadata": {},
   "source": [
    "# Ejemplo de Coursera"
   ]
  },
  {
   "cell_type": "code",
   "execution_count": 22,
   "id": "ca6327fa",
   "metadata": {},
   "outputs": [
    {
     "name": "stdout",
     "output_type": "stream",
     "text": [
      "Title: Cloud-computing comparison - Wikipedia\n"
     ]
    },
    {
     "data": {
      "application/vnd.microsoft.datawrangler.viewer.v0+json": {
       "columns": [
        {
         "name": "index",
         "rawType": "int64",
         "type": "integer"
        },
        {
         "name": "Provider",
         "rawType": "object",
         "type": "string"
        },
        {
         "name": "Launched",
         "rawType": "object",
         "type": "string"
        },
        {
         "name": "Block storage",
         "rawType": "object",
         "type": "string"
        },
        {
         "name": "Assignable IPs",
         "rawType": "object",
         "type": "string"
        },
        {
         "name": "SMTP support",
         "rawType": "object",
         "type": "string"
        },
        {
         "name": "IOPS Guaranteed minimum",
         "rawType": "object",
         "type": "string"
        },
        {
         "name": "Security",
         "rawType": "object",
         "type": "string"
        },
        {
         "name": "Locations",
         "rawType": "object",
         "type": "string"
        },
        {
         "name": "Notes",
         "rawType": "object",
         "type": "string"
        }
       ],
       "ref": "f3180af5-12c7-4369-844d-c445f0e3099a",
       "rows": [
        [
         "0",
         "Google Cloud Platform",
         "2013",
         "Yes",
         "No",
         "No[1]",
         "Yes",
         "Yes[2]",
         "br, ca, cl, us, be, ch, de, es, fi, it, po, nl, uk, il, au, cn, in, jp, sg, id, tw[3]",
         "SMTP blocked.[4]"
        ],
        [
         "1",
         "Oracle Cloud Infrastructure",
         "2014",
         "Yes",
         "Yes",
         "Yes",
         "Yes",
         "Yes[5]",
         "us, ca, br, de, uk, nl, ch, in, aus, jp, kr, saud",
         ""
        ],
        [
         "2",
         "Amazon Web Services",
         "2006",
         "Yes",
         "Yes",
         "Partial[6]",
         "Yes",
         "Yes[7]",
         "us, ca, br, ie, de, uk, cn, sg, au, jp, kr, in, za, fr, se, bh, hk, it, id",
         "List of bugs[8]"
        ],
        [
         "3",
         "IBM Cloud",
         "2005",
         "Yes",
         "Yes",
         "No[9]",
         "Yes",
         "Yes[10]",
         "us, gb, fr, de, nl, in, au, hk, kr, it, jp, no, sg",
         ""
        ],
        [
         "4",
         "Microsoft Azure",
         "2010",
         "Yes",
         "Yes",
         "Yes[11]",
         "Yes",
         "Yes[12]",
         "ca, us, br, ie, nl, de, uk, cn, au, jp, in, kr, sg, hk, za, id",
         "List of bugs[13]"
        ]
       ],
       "shape": {
        "columns": 9,
        "rows": 5
       }
      },
      "text/html": [
       "<div>\n",
       "<style scoped>\n",
       "    .dataframe tbody tr th:only-of-type {\n",
       "        vertical-align: middle;\n",
       "    }\n",
       "\n",
       "    .dataframe tbody tr th {\n",
       "        vertical-align: top;\n",
       "    }\n",
       "\n",
       "    .dataframe thead th {\n",
       "        text-align: right;\n",
       "    }\n",
       "</style>\n",
       "<table border=\"1\" class=\"dataframe\">\n",
       "  <thead>\n",
       "    <tr style=\"text-align: right;\">\n",
       "      <th></th>\n",
       "      <th>Provider</th>\n",
       "      <th>Launched</th>\n",
       "      <th>Block storage</th>\n",
       "      <th>Assignable IPs</th>\n",
       "      <th>SMTP support</th>\n",
       "      <th>IOPS Guaranteed minimum</th>\n",
       "      <th>Security</th>\n",
       "      <th>Locations</th>\n",
       "      <th>Notes</th>\n",
       "    </tr>\n",
       "  </thead>\n",
       "  <tbody>\n",
       "    <tr>\n",
       "      <th>0</th>\n",
       "      <td>Google Cloud Platform</td>\n",
       "      <td>2013</td>\n",
       "      <td>Yes</td>\n",
       "      <td>No</td>\n",
       "      <td>No[1]</td>\n",
       "      <td>Yes</td>\n",
       "      <td>Yes[2]</td>\n",
       "      <td>br, ca, cl, us, be, ch, de, es, fi, it, po, nl...</td>\n",
       "      <td>SMTP blocked.[4]</td>\n",
       "    </tr>\n",
       "    <tr>\n",
       "      <th>1</th>\n",
       "      <td>Oracle Cloud Infrastructure</td>\n",
       "      <td>2014</td>\n",
       "      <td>Yes</td>\n",
       "      <td>Yes</td>\n",
       "      <td>Yes</td>\n",
       "      <td>Yes</td>\n",
       "      <td>Yes[5]</td>\n",
       "      <td>us, ca, br, de, uk, nl, ch, in, aus, jp, kr, saud</td>\n",
       "      <td></td>\n",
       "    </tr>\n",
       "    <tr>\n",
       "      <th>2</th>\n",
       "      <td>Amazon Web Services</td>\n",
       "      <td>2006</td>\n",
       "      <td>Yes</td>\n",
       "      <td>Yes</td>\n",
       "      <td>Partial[6]</td>\n",
       "      <td>Yes</td>\n",
       "      <td>Yes[7]</td>\n",
       "      <td>us, ca, br, ie, de, uk, cn, sg, au, jp, kr, in...</td>\n",
       "      <td>List of bugs[8]</td>\n",
       "    </tr>\n",
       "    <tr>\n",
       "      <th>3</th>\n",
       "      <td>IBM Cloud</td>\n",
       "      <td>2005</td>\n",
       "      <td>Yes</td>\n",
       "      <td>Yes</td>\n",
       "      <td>No[9]</td>\n",
       "      <td>Yes</td>\n",
       "      <td>Yes[10]</td>\n",
       "      <td>us, gb, fr, de, nl, in, au, hk, kr, it, jp, no...</td>\n",
       "      <td></td>\n",
       "    </tr>\n",
       "    <tr>\n",
       "      <th>4</th>\n",
       "      <td>Microsoft Azure</td>\n",
       "      <td>2010</td>\n",
       "      <td>Yes</td>\n",
       "      <td>Yes</td>\n",
       "      <td>Yes[11]</td>\n",
       "      <td>Yes</td>\n",
       "      <td>Yes[12]</td>\n",
       "      <td>ca, us, br, ie, nl, de, uk, cn, au, jp, in, kr...</td>\n",
       "      <td>List of bugs[13]</td>\n",
       "    </tr>\n",
       "  </tbody>\n",
       "</table>\n",
       "</div>"
      ],
      "text/plain": [
       "                      Provider Launched Block storage Assignable IPs  \\\n",
       "0        Google Cloud Platform     2013           Yes             No   \n",
       "1  Oracle Cloud Infrastructure     2014           Yes            Yes   \n",
       "2          Amazon Web Services     2006           Yes            Yes   \n",
       "3                    IBM Cloud     2005           Yes            Yes   \n",
       "4              Microsoft Azure     2010           Yes            Yes   \n",
       "\n",
       "  SMTP support IOPS Guaranteed minimum Security  \\\n",
       "0        No[1]                     Yes   Yes[2]   \n",
       "1          Yes                     Yes   Yes[5]   \n",
       "2   Partial[6]                     Yes   Yes[7]   \n",
       "3        No[9]                     Yes  Yes[10]   \n",
       "4      Yes[11]                     Yes  Yes[12]   \n",
       "\n",
       "                                           Locations             Notes  \n",
       "0  br, ca, cl, us, be, ch, de, es, fi, it, po, nl...  SMTP blocked.[4]  \n",
       "1  us, ca, br, de, uk, nl, ch, in, aus, jp, kr, saud                    \n",
       "2  us, ca, br, ie, de, uk, cn, sg, au, jp, kr, in...   List of bugs[8]  \n",
       "3  us, gb, fr, de, nl, in, au, hk, kr, it, jp, no...                    \n",
       "4  ca, us, br, ie, nl, de, uk, cn, au, jp, in, kr...  List of bugs[13]  "
      ]
     },
     "execution_count": 22,
     "metadata": {},
     "output_type": "execute_result"
    }
   ],
   "source": [
    "# Send an HTTP request to the webpage\n",
    "url = 'https://en.wikipedia.org/wiki/Cloud-computing_comparison'  \n",
    "response = requests.get(url)\n",
    "\n",
    "# Parse the HTML content\n",
    "soup = BeautifulSoup(response.content, 'html.parser')\n",
    "\n",
    "# Print the title of the webpage to verify\n",
    "print(\"Title: \" + soup.title.text)\n",
    "\n",
    "# Find the table containing the data (selecting the first table by default)\n",
    "table = soup.find('table')\n",
    "\n",
    "# Extract table rows\n",
    "rows = table.find_all('tr')\n",
    "\n",
    "# Extract headers from the first row (using <th> tags)\n",
    "headers = [header.text.strip() for header in rows[0].find_all('th')]\n",
    "\n",
    "# Loop through the rows and extract data (skip the first row with headers)\n",
    "data = []\n",
    "for row in rows[1:]:  # Start from the second row onwards\n",
    "    cols = row.find_all('td')\n",
    "    cols = [col.text.strip() for col in cols]\n",
    "    data.append(cols)\n",
    "\n",
    "# Convert the data into a pandas DataFrame, using the extracted headers as column names\n",
    "df = pd.DataFrame(data, columns=headers)\n",
    "\n",
    "# Display the first few rows of the DataFrame to verify\n",
    "df.head()"
   ]
  }
 ],
 "metadata": {
  "kernelspec": {
   "display_name": ".venv",
   "language": "python",
   "name": "python3"
  },
  "language_info": {
   "codemirror_mode": {
    "name": "ipython",
    "version": 3
   },
   "file_extension": ".py",
   "mimetype": "text/x-python",
   "name": "python",
   "nbconvert_exporter": "python",
   "pygments_lexer": "ipython3",
   "version": "3.13.2"
  }
 },
 "nbformat": 4,
 "nbformat_minor": 5
}
